{
 "cells": [
  {
   "cell_type": "markdown",
   "metadata": {},
   "source": [
    "# Выбор локации для скважины"
   ]
  },
  {
   "cell_type": "markdown",
   "metadata": {},
   "source": [
    "Допустим, вы работаете в добывающей компании «ГлавРосГосНефть». Нужно решить, где бурить новую скважину.\n",
    "\n",
    "Вам предоставлены пробы нефти в трёх регионах: в каждом 10 000 месторождений, где измерили качество нефти и объём её запасов. Постройте модель машинного обучения, которая поможет определить регион, где добыча принесёт наибольшую прибыль. Проанализируйте возможную прибыль и риски техникой *Bootstrap.*"
   ]
  },
  {
   "cell_type": "markdown",
   "metadata": {},
   "source": [
    "Цель проекта - определить регион, в котором добыча нефти принесет наибольшую прибыль.\n",
    "\n",
    "Для достижения этой цели необходимо выполнить следующие задачи:\n",
    "\n",
    "1. Собрать данные о характеристиках скважин и объемах запасов нефти в трех регионах.\n",
    "\n",
    "2. Построить модели для предсказания объемов запасов нефти в новых скважинах для каждого региона.\n",
    "\n",
    "3. Отобрать наиболее перспективные скважины в каждом регионе с помощью модели и расчета средней прибыли.\n",
    "\n",
    "4. Рассчитать прибыль от добычи нефти в отобранных скважинах с учетом стоимости разработки, добычи и текущей цены на нефть.\n",
    "\n",
    "5. Оценить риски и вероятность убытков с помощью метода Bootstrap.\n",
    "\n",
    "6. Выбрать регион с наибольшей ожидаемой прибылью и рассчитать потенциальную прибыль и риски для данного региона. \n",
    "\n",
    "7. Проанализировать результаты и дать рекомендации по выбору региона для добычи нефти.\n",
    "\n",
    "Каждая из этих задач является важным шагом в процессе выбора региона для добычи нефти. Результаты анализа и оценки прибыли и рисков помогут компании принять обоснованное решение по выбору региона для добычи нефти, что может значительно повлиять на успех компании и ее финансовые показатели."
   ]
  },
  {
   "cell_type": "markdown",
   "metadata": {},
   "source": [
    "# Шаги для выбора локации:\n",
    "\n",
    "- В избранном регионе ищут месторождения, для каждого определяют значения признаков;\n",
    "- Строят модель и оценивают объём запасов;\n",
    "- Выбирают месторождения с самым высокими оценками значений. Количество месторождений зависит от бюджета компании и стоимости разработки одной скважины;\n",
    "- Прибыль равна суммарной прибыли отобранных месторождений."
   ]
  },
  {
   "cell_type": "markdown",
   "metadata": {},
   "source": [
    "# Инструкция по выполнению проекта\n",
    "\n",
    "Загрузите и подготовьте данные. Поясните порядок действий.\n",
    "\n",
    "Обучите и проверьте модель для каждого региона:\n",
    "\n",
    " 2.1. Разбейте данные на обучающую и валидационную выборки в соотношении 75:25.\n",
    " \n",
    " 2.2. Обучите модель и сделайте предсказания на валидационной выборке.\n",
    " \n",
    " 2.3. Сохраните предсказания и правильные ответы на валидационной выборке.\n",
    " \n",
    " 2.4. Напечатайте на экране средний запас предсказанного сырья и RMSE модели.\n",
    " \n",
    " 2.5. Проанализируйте результаты.\n",
    " \n",
    "Подготовьтесь к расчёту прибыли:\n",
    "\n",
    " 3.1. Все ключевые значения для расчётов сохраните в отдельных переменных.\n",
    " \n",
    " 3.2. Рассчитайте достаточный объём сырья для безубыточной разработки новой скважины. Сравните полученный объём сырья со средним запасом в каждом регионе. \n",
    " \n",
    " 3.3. Напишите выводы по этапу подготовки расчёта прибыли.\n",
    " \n",
    "Напишите функцию для расчёта прибыли по выбранным скважинам и предсказаниям модели:\n",
    "\n",
    " 4.1. Выберите скважины с максимальными значениями предсказаний. \n",
    " \n",
    " 4.2. Просуммируйте целевое значение объёма сырья, соответствующее этим предсказаниям.\n",
    " \n",
    " 4.3. Рассчитайте прибыль для полученного объёма сырья.\n",
    " \n",
    "Посчитайте риски и прибыль для каждого региона:\n",
    "\n",
    " 5.1. Примените технику Bootstrap с 1000 выборок, чтобы найти распределение прибыли.\n",
    " \n",
    " 5.2. Найдите среднюю прибыль, 95%-й доверительный интервал и риск убытков. Убыток — это отрицательная прибыль.\n",
    " \n",
    " 5.3. Напишите выводы: предложите регион для разработки скважин и обоснуйте выбор."
   ]
  },
  {
   "cell_type": "markdown",
   "metadata": {},
   "source": [
    "# Описание данных\n",
    "\n",
    "Данные геологоразведки трёх регионов находятся в файлах: \n",
    "\n",
    "/datasets/geo_data_0.csv. Скачать датасет\n",
    "\n",
    "/datasets/geo_data_1.csv. Скачать датасет\n",
    "\n",
    "/datasets/geo_data_2.csv. Скачать датасет\n",
    "\n",
    "id — уникальный идентификатор скважины;\n",
    "\n",
    "f0, f1, f2 — три признака точек (неважно, что они означают, но сами признаки значимы);\n",
    "product — объём запасов в скважине (тыс. баррелей).\n"
   ]
  },
  {
   "cell_type": "markdown",
   "metadata": {},
   "source": [
    "# Условия задачи:\n",
    "\n",
    "Для обучения модели подходит только линейная регрессия (остальные — недостаточно предсказуемые).\n",
    "\n",
    "При разведке региона исследуют 500 точек, из которых с помощью машинного обучения выбирают 200 лучших для разработки.\n",
    "Бюджет на разработку скважин в регионе — 10 млрд рублей.\n",
    "\n",
    "При нынешних ценах один баррель сырья приносит 450 рублей дохода. Доход с каждой единицы продукта составляет 450 тыс. рублей, поскольку объём указан в тысячах баррелей.\n",
    "\n",
    "После оценки рисков нужно оставить лишь те регионы, в которых вероятность убытков меньше 2.5%. Среди них выбирают регион с наибольшей средней прибылью."
   ]
  },
  {
   "cell_type": "markdown",
   "metadata": {},
   "source": [
    "# Оглавление \n",
    "\n",
    "- Подготовка данных\n",
    "- Обучение и проверка моделей\n",
    "- Подготовка к расчёту прибыли\n",
    "- Расчёт рисков и прибыли\n",
    "- Выбор региона для разработки месторождения с обоснованием"
   ]
  },
  {
   "cell_type": "markdown",
   "metadata": {},
   "source": [
    "## Загрузка и подготовка данных"
   ]
  },
  {
   "cell_type": "code",
   "execution_count": 1,
   "metadata": {},
   "outputs": [],
   "source": [
    "# Импортируем нужные библиотеки и модули: \n",
    "    \n",
    "import pandas as pd\n",
    "import numpy as np\n",
    "from IPython.display import display\n",
    "from numpy.random import RandomState\n",
    "from scipy import stats\n",
    "\n",
    "from sklearn.preprocessing import StandardScaler\n",
    "from sklearn.model_selection import train_test_split\n",
    "from sklearn.linear_model import LinearRegression\n",
    "from sklearn.metrics import mean_squared_error"
   ]
  },
  {
   "cell_type": "code",
   "execution_count": 2,
   "metadata": {},
   "outputs": [],
   "source": [
    "# Создадим функцию для просмотра данных: \n",
    "\n",
    "def load_display_info_data(file_path):\n",
    "    \"\"\"\n",
    "    input:        file_path [object] - путь к файлу\n",
    "    output:       data [DataFrame] - таблица данных\n",
    "    description:  функция загружает таблицу функцией read_csv, выводит первые 10 строк и последние 10 строк на экран,\n",
    "                  выводит информацию о данных методом info(), считает количество дубликатов, находит и выводит количество пропусков\n",
    "    \"\"\"\n",
    "    # читаем данные из .csv файла с помощью метода read_csv()\n",
    "    data = pd.read_csv(file_path)\n",
    "    display(data.head(10))\n",
    "    display(data.tail(10))\n",
    "    display(data.info())\n",
    "    print('Количество дубликатов:', sum(data.duplicated()))\n",
    "    print('Количество пропусков в каждом столбце:')\n",
    "    print(data.isnull().sum())\n",
    "    return data"
   ]
  },
  {
   "cell_type": "code",
   "execution_count": 3,
   "metadata": {},
   "outputs": [
    {
     "data": {
      "text/html": [
       "<div>\n",
       "<style scoped>\n",
       "    .dataframe tbody tr th:only-of-type {\n",
       "        vertical-align: middle;\n",
       "    }\n",
       "\n",
       "    .dataframe tbody tr th {\n",
       "        vertical-align: top;\n",
       "    }\n",
       "\n",
       "    .dataframe thead th {\n",
       "        text-align: right;\n",
       "    }\n",
       "</style>\n",
       "<table border=\"1\" class=\"dataframe\">\n",
       "  <thead>\n",
       "    <tr style=\"text-align: right;\">\n",
       "      <th></th>\n",
       "      <th>id</th>\n",
       "      <th>f0</th>\n",
       "      <th>f1</th>\n",
       "      <th>f2</th>\n",
       "      <th>product</th>\n",
       "    </tr>\n",
       "  </thead>\n",
       "  <tbody>\n",
       "    <tr>\n",
       "      <th>0</th>\n",
       "      <td>txEyH</td>\n",
       "      <td>0.705745</td>\n",
       "      <td>-0.497823</td>\n",
       "      <td>1.221170</td>\n",
       "      <td>105.280062</td>\n",
       "    </tr>\n",
       "    <tr>\n",
       "      <th>1</th>\n",
       "      <td>2acmU</td>\n",
       "      <td>1.334711</td>\n",
       "      <td>-0.340164</td>\n",
       "      <td>4.365080</td>\n",
       "      <td>73.037750</td>\n",
       "    </tr>\n",
       "    <tr>\n",
       "      <th>2</th>\n",
       "      <td>409Wp</td>\n",
       "      <td>1.022732</td>\n",
       "      <td>0.151990</td>\n",
       "      <td>1.419926</td>\n",
       "      <td>85.265647</td>\n",
       "    </tr>\n",
       "    <tr>\n",
       "      <th>3</th>\n",
       "      <td>iJLyR</td>\n",
       "      <td>-0.032172</td>\n",
       "      <td>0.139033</td>\n",
       "      <td>2.978566</td>\n",
       "      <td>168.620776</td>\n",
       "    </tr>\n",
       "    <tr>\n",
       "      <th>4</th>\n",
       "      <td>Xdl7t</td>\n",
       "      <td>1.988431</td>\n",
       "      <td>0.155413</td>\n",
       "      <td>4.751769</td>\n",
       "      <td>154.036647</td>\n",
       "    </tr>\n",
       "    <tr>\n",
       "      <th>5</th>\n",
       "      <td>wX4Hy</td>\n",
       "      <td>0.969570</td>\n",
       "      <td>0.489775</td>\n",
       "      <td>-0.735383</td>\n",
       "      <td>64.741541</td>\n",
       "    </tr>\n",
       "    <tr>\n",
       "      <th>6</th>\n",
       "      <td>tL6pL</td>\n",
       "      <td>0.645075</td>\n",
       "      <td>0.530656</td>\n",
       "      <td>1.780266</td>\n",
       "      <td>49.055285</td>\n",
       "    </tr>\n",
       "    <tr>\n",
       "      <th>7</th>\n",
       "      <td>BYPU6</td>\n",
       "      <td>-0.400648</td>\n",
       "      <td>0.808337</td>\n",
       "      <td>-5.624670</td>\n",
       "      <td>72.943292</td>\n",
       "    </tr>\n",
       "    <tr>\n",
       "      <th>8</th>\n",
       "      <td>j9Oui</td>\n",
       "      <td>0.643105</td>\n",
       "      <td>-0.551583</td>\n",
       "      <td>2.372141</td>\n",
       "      <td>113.356160</td>\n",
       "    </tr>\n",
       "    <tr>\n",
       "      <th>9</th>\n",
       "      <td>OLuZU</td>\n",
       "      <td>2.173381</td>\n",
       "      <td>0.563698</td>\n",
       "      <td>9.441852</td>\n",
       "      <td>127.910945</td>\n",
       "    </tr>\n",
       "  </tbody>\n",
       "</table>\n",
       "</div>"
      ],
      "text/plain": [
       "      id        f0        f1        f2     product\n",
       "0  txEyH  0.705745 -0.497823  1.221170  105.280062\n",
       "1  2acmU  1.334711 -0.340164  4.365080   73.037750\n",
       "2  409Wp  1.022732  0.151990  1.419926   85.265647\n",
       "3  iJLyR -0.032172  0.139033  2.978566  168.620776\n",
       "4  Xdl7t  1.988431  0.155413  4.751769  154.036647\n",
       "5  wX4Hy  0.969570  0.489775 -0.735383   64.741541\n",
       "6  tL6pL  0.645075  0.530656  1.780266   49.055285\n",
       "7  BYPU6 -0.400648  0.808337 -5.624670   72.943292\n",
       "8  j9Oui  0.643105 -0.551583  2.372141  113.356160\n",
       "9  OLuZU  2.173381  0.563698  9.441852  127.910945"
      ]
     },
     "metadata": {},
     "output_type": "display_data"
    },
    {
     "data": {
      "text/html": [
       "<div>\n",
       "<style scoped>\n",
       "    .dataframe tbody tr th:only-of-type {\n",
       "        vertical-align: middle;\n",
       "    }\n",
       "\n",
       "    .dataframe tbody tr th {\n",
       "        vertical-align: top;\n",
       "    }\n",
       "\n",
       "    .dataframe thead th {\n",
       "        text-align: right;\n",
       "    }\n",
       "</style>\n",
       "<table border=\"1\" class=\"dataframe\">\n",
       "  <thead>\n",
       "    <tr style=\"text-align: right;\">\n",
       "      <th></th>\n",
       "      <th>id</th>\n",
       "      <th>f0</th>\n",
       "      <th>f1</th>\n",
       "      <th>f2</th>\n",
       "      <th>product</th>\n",
       "    </tr>\n",
       "  </thead>\n",
       "  <tbody>\n",
       "    <tr>\n",
       "      <th>99990</th>\n",
       "      <td>uQHju</td>\n",
       "      <td>-0.169592</td>\n",
       "      <td>0.988432</td>\n",
       "      <td>5.153578</td>\n",
       "      <td>121.253686</td>\n",
       "    </tr>\n",
       "    <tr>\n",
       "      <th>99991</th>\n",
       "      <td>5aJ79</td>\n",
       "      <td>-0.880711</td>\n",
       "      <td>0.173065</td>\n",
       "      <td>6.962537</td>\n",
       "      <td>152.614843</td>\n",
       "    </tr>\n",
       "    <tr>\n",
       "      <th>99992</th>\n",
       "      <td>vgK5D</td>\n",
       "      <td>0.637601</td>\n",
       "      <td>0.751503</td>\n",
       "      <td>2.918322</td>\n",
       "      <td>95.180855</td>\n",
       "    </tr>\n",
       "    <tr>\n",
       "      <th>99993</th>\n",
       "      <td>sOhIk</td>\n",
       "      <td>-0.176367</td>\n",
       "      <td>0.912145</td>\n",
       "      <td>5.241132</td>\n",
       "      <td>89.619662</td>\n",
       "    </tr>\n",
       "    <tr>\n",
       "      <th>99994</th>\n",
       "      <td>hWIah</td>\n",
       "      <td>1.562007</td>\n",
       "      <td>-0.311641</td>\n",
       "      <td>1.315442</td>\n",
       "      <td>50.092191</td>\n",
       "    </tr>\n",
       "    <tr>\n",
       "      <th>99995</th>\n",
       "      <td>DLsed</td>\n",
       "      <td>0.971957</td>\n",
       "      <td>0.370953</td>\n",
       "      <td>6.075346</td>\n",
       "      <td>110.744026</td>\n",
       "    </tr>\n",
       "    <tr>\n",
       "      <th>99996</th>\n",
       "      <td>QKivN</td>\n",
       "      <td>1.392429</td>\n",
       "      <td>-0.382606</td>\n",
       "      <td>1.273912</td>\n",
       "      <td>122.346843</td>\n",
       "    </tr>\n",
       "    <tr>\n",
       "      <th>99997</th>\n",
       "      <td>3rnvd</td>\n",
       "      <td>1.029585</td>\n",
       "      <td>0.018787</td>\n",
       "      <td>-1.348308</td>\n",
       "      <td>64.375443</td>\n",
       "    </tr>\n",
       "    <tr>\n",
       "      <th>99998</th>\n",
       "      <td>7kl59</td>\n",
       "      <td>0.998163</td>\n",
       "      <td>-0.528582</td>\n",
       "      <td>1.583869</td>\n",
       "      <td>74.040764</td>\n",
       "    </tr>\n",
       "    <tr>\n",
       "      <th>99999</th>\n",
       "      <td>1CWhH</td>\n",
       "      <td>1.764754</td>\n",
       "      <td>-0.266417</td>\n",
       "      <td>5.722849</td>\n",
       "      <td>149.633246</td>\n",
       "    </tr>\n",
       "  </tbody>\n",
       "</table>\n",
       "</div>"
      ],
      "text/plain": [
       "          id        f0        f1        f2     product\n",
       "99990  uQHju -0.169592  0.988432  5.153578  121.253686\n",
       "99991  5aJ79 -0.880711  0.173065  6.962537  152.614843\n",
       "99992  vgK5D  0.637601  0.751503  2.918322   95.180855\n",
       "99993  sOhIk -0.176367  0.912145  5.241132   89.619662\n",
       "99994  hWIah  1.562007 -0.311641  1.315442   50.092191\n",
       "99995  DLsed  0.971957  0.370953  6.075346  110.744026\n",
       "99996  QKivN  1.392429 -0.382606  1.273912  122.346843\n",
       "99997  3rnvd  1.029585  0.018787 -1.348308   64.375443\n",
       "99998  7kl59  0.998163 -0.528582  1.583869   74.040764\n",
       "99999  1CWhH  1.764754 -0.266417  5.722849  149.633246"
      ]
     },
     "metadata": {},
     "output_type": "display_data"
    },
    {
     "name": "stdout",
     "output_type": "stream",
     "text": [
      "<class 'pandas.core.frame.DataFrame'>\n",
      "RangeIndex: 100000 entries, 0 to 99999\n",
      "Data columns (total 5 columns):\n",
      " #   Column   Non-Null Count   Dtype  \n",
      "---  ------   --------------   -----  \n",
      " 0   id       100000 non-null  object \n",
      " 1   f0       100000 non-null  float64\n",
      " 2   f1       100000 non-null  float64\n",
      " 3   f2       100000 non-null  float64\n",
      " 4   product  100000 non-null  float64\n",
      "dtypes: float64(4), object(1)\n",
      "memory usage: 3.8+ MB\n"
     ]
    },
    {
     "data": {
      "text/plain": [
       "None"
      ]
     },
     "metadata": {},
     "output_type": "display_data"
    },
    {
     "name": "stdout",
     "output_type": "stream",
     "text": [
      "Количество дубликатов: 0\n",
      "Количество пропусков в каждом столбце:\n",
      "id         0\n",
      "f0         0\n",
      "f1         0\n",
      "f2         0\n",
      "product    0\n",
      "dtype: int64\n"
     ]
    }
   ],
   "source": [
    "geo_data_0 = load_display_info_data('/datasets/geo_data_0.csv')"
   ]
  },
  {
   "cell_type": "markdown",
   "metadata": {},
   "source": [
    "Кажется, всё работает хорошо, и данные загружены успешно. Количество пропусков в каждом столбце равно 0, что говорит о том, что в данных нет пропущенных значений. Также количество дубликатов равно 0, что свидетельствует о том, что данные не содержат повторяющихся строк."
   ]
  },
  {
   "cell_type": "code",
   "execution_count": 4,
   "metadata": {},
   "outputs": [
    {
     "data": {
      "text/html": [
       "<div>\n",
       "<style scoped>\n",
       "    .dataframe tbody tr th:only-of-type {\n",
       "        vertical-align: middle;\n",
       "    }\n",
       "\n",
       "    .dataframe tbody tr th {\n",
       "        vertical-align: top;\n",
       "    }\n",
       "\n",
       "    .dataframe thead th {\n",
       "        text-align: right;\n",
       "    }\n",
       "</style>\n",
       "<table border=\"1\" class=\"dataframe\">\n",
       "  <thead>\n",
       "    <tr style=\"text-align: right;\">\n",
       "      <th></th>\n",
       "      <th>id</th>\n",
       "      <th>f0</th>\n",
       "      <th>f1</th>\n",
       "      <th>f2</th>\n",
       "      <th>product</th>\n",
       "    </tr>\n",
       "  </thead>\n",
       "  <tbody>\n",
       "    <tr>\n",
       "      <th>0</th>\n",
       "      <td>kBEdx</td>\n",
       "      <td>-15.001348</td>\n",
       "      <td>-8.276000</td>\n",
       "      <td>-0.005876</td>\n",
       "      <td>3.179103</td>\n",
       "    </tr>\n",
       "    <tr>\n",
       "      <th>1</th>\n",
       "      <td>62mP7</td>\n",
       "      <td>14.272088</td>\n",
       "      <td>-3.475083</td>\n",
       "      <td>0.999183</td>\n",
       "      <td>26.953261</td>\n",
       "    </tr>\n",
       "    <tr>\n",
       "      <th>2</th>\n",
       "      <td>vyE1P</td>\n",
       "      <td>6.263187</td>\n",
       "      <td>-5.948386</td>\n",
       "      <td>5.001160</td>\n",
       "      <td>134.766305</td>\n",
       "    </tr>\n",
       "    <tr>\n",
       "      <th>3</th>\n",
       "      <td>KcrkZ</td>\n",
       "      <td>-13.081196</td>\n",
       "      <td>-11.506057</td>\n",
       "      <td>4.999415</td>\n",
       "      <td>137.945408</td>\n",
       "    </tr>\n",
       "    <tr>\n",
       "      <th>4</th>\n",
       "      <td>AHL4O</td>\n",
       "      <td>12.702195</td>\n",
       "      <td>-8.147433</td>\n",
       "      <td>5.004363</td>\n",
       "      <td>134.766305</td>\n",
       "    </tr>\n",
       "    <tr>\n",
       "      <th>5</th>\n",
       "      <td>HHckp</td>\n",
       "      <td>-3.327590</td>\n",
       "      <td>-2.205276</td>\n",
       "      <td>3.003647</td>\n",
       "      <td>84.038886</td>\n",
       "    </tr>\n",
       "    <tr>\n",
       "      <th>6</th>\n",
       "      <td>h5Ujo</td>\n",
       "      <td>-11.142655</td>\n",
       "      <td>-10.133399</td>\n",
       "      <td>4.002382</td>\n",
       "      <td>110.992147</td>\n",
       "    </tr>\n",
       "    <tr>\n",
       "      <th>7</th>\n",
       "      <td>muH9x</td>\n",
       "      <td>4.234715</td>\n",
       "      <td>-0.001354</td>\n",
       "      <td>2.004588</td>\n",
       "      <td>53.906522</td>\n",
       "    </tr>\n",
       "    <tr>\n",
       "      <th>8</th>\n",
       "      <td>YiRkx</td>\n",
       "      <td>13.355129</td>\n",
       "      <td>-0.332068</td>\n",
       "      <td>4.998647</td>\n",
       "      <td>134.766305</td>\n",
       "    </tr>\n",
       "    <tr>\n",
       "      <th>9</th>\n",
       "      <td>jG6Gi</td>\n",
       "      <td>1.069227</td>\n",
       "      <td>-11.025667</td>\n",
       "      <td>4.997844</td>\n",
       "      <td>137.945408</td>\n",
       "    </tr>\n",
       "  </tbody>\n",
       "</table>\n",
       "</div>"
      ],
      "text/plain": [
       "      id         f0         f1        f2     product\n",
       "0  kBEdx -15.001348  -8.276000 -0.005876    3.179103\n",
       "1  62mP7  14.272088  -3.475083  0.999183   26.953261\n",
       "2  vyE1P   6.263187  -5.948386  5.001160  134.766305\n",
       "3  KcrkZ -13.081196 -11.506057  4.999415  137.945408\n",
       "4  AHL4O  12.702195  -8.147433  5.004363  134.766305\n",
       "5  HHckp  -3.327590  -2.205276  3.003647   84.038886\n",
       "6  h5Ujo -11.142655 -10.133399  4.002382  110.992147\n",
       "7  muH9x   4.234715  -0.001354  2.004588   53.906522\n",
       "8  YiRkx  13.355129  -0.332068  4.998647  134.766305\n",
       "9  jG6Gi   1.069227 -11.025667  4.997844  137.945408"
      ]
     },
     "metadata": {},
     "output_type": "display_data"
    },
    {
     "data": {
      "text/html": [
       "<div>\n",
       "<style scoped>\n",
       "    .dataframe tbody tr th:only-of-type {\n",
       "        vertical-align: middle;\n",
       "    }\n",
       "\n",
       "    .dataframe tbody tr th {\n",
       "        vertical-align: top;\n",
       "    }\n",
       "\n",
       "    .dataframe thead th {\n",
       "        text-align: right;\n",
       "    }\n",
       "</style>\n",
       "<table border=\"1\" class=\"dataframe\">\n",
       "  <thead>\n",
       "    <tr style=\"text-align: right;\">\n",
       "      <th></th>\n",
       "      <th>id</th>\n",
       "      <th>f0</th>\n",
       "      <th>f1</th>\n",
       "      <th>f2</th>\n",
       "      <th>product</th>\n",
       "    </tr>\n",
       "  </thead>\n",
       "  <tbody>\n",
       "    <tr>\n",
       "      <th>99990</th>\n",
       "      <td>6HSBo</td>\n",
       "      <td>4.280434</td>\n",
       "      <td>-1.692187</td>\n",
       "      <td>1.011469</td>\n",
       "      <td>26.953261</td>\n",
       "    </tr>\n",
       "    <tr>\n",
       "      <th>99991</th>\n",
       "      <td>obwpN</td>\n",
       "      <td>2.233158</td>\n",
       "      <td>-1.970310</td>\n",
       "      <td>1.004117</td>\n",
       "      <td>26.953261</td>\n",
       "    </tr>\n",
       "    <tr>\n",
       "      <th>99992</th>\n",
       "      <td>BYhdw</td>\n",
       "      <td>-2.150114</td>\n",
       "      <td>-13.278717</td>\n",
       "      <td>3.002298</td>\n",
       "      <td>84.038886</td>\n",
       "    </tr>\n",
       "    <tr>\n",
       "      <th>99993</th>\n",
       "      <td>FOKH6</td>\n",
       "      <td>-8.421251</td>\n",
       "      <td>-2.813906</td>\n",
       "      <td>4.997337</td>\n",
       "      <td>137.945408</td>\n",
       "    </tr>\n",
       "    <tr>\n",
       "      <th>99994</th>\n",
       "      <td>VfVub</td>\n",
       "      <td>-8.646179</td>\n",
       "      <td>-3.661656</td>\n",
       "      <td>-0.003027</td>\n",
       "      <td>3.179103</td>\n",
       "    </tr>\n",
       "    <tr>\n",
       "      <th>99995</th>\n",
       "      <td>QywKC</td>\n",
       "      <td>9.535637</td>\n",
       "      <td>-6.878139</td>\n",
       "      <td>1.998296</td>\n",
       "      <td>53.906522</td>\n",
       "    </tr>\n",
       "    <tr>\n",
       "      <th>99996</th>\n",
       "      <td>ptvty</td>\n",
       "      <td>-10.160631</td>\n",
       "      <td>-12.558096</td>\n",
       "      <td>5.005581</td>\n",
       "      <td>137.945408</td>\n",
       "    </tr>\n",
       "    <tr>\n",
       "      <th>99997</th>\n",
       "      <td>09gWa</td>\n",
       "      <td>-7.378891</td>\n",
       "      <td>-3.084104</td>\n",
       "      <td>4.998651</td>\n",
       "      <td>137.945408</td>\n",
       "    </tr>\n",
       "    <tr>\n",
       "      <th>99998</th>\n",
       "      <td>rqwUm</td>\n",
       "      <td>0.665714</td>\n",
       "      <td>-6.152593</td>\n",
       "      <td>1.000146</td>\n",
       "      <td>30.132364</td>\n",
       "    </tr>\n",
       "    <tr>\n",
       "      <th>99999</th>\n",
       "      <td>relB0</td>\n",
       "      <td>-3.426139</td>\n",
       "      <td>-7.794274</td>\n",
       "      <td>-0.003299</td>\n",
       "      <td>3.179103</td>\n",
       "    </tr>\n",
       "  </tbody>\n",
       "</table>\n",
       "</div>"
      ],
      "text/plain": [
       "          id         f0         f1        f2     product\n",
       "99990  6HSBo   4.280434  -1.692187  1.011469   26.953261\n",
       "99991  obwpN   2.233158  -1.970310  1.004117   26.953261\n",
       "99992  BYhdw  -2.150114 -13.278717  3.002298   84.038886\n",
       "99993  FOKH6  -8.421251  -2.813906  4.997337  137.945408\n",
       "99994  VfVub  -8.646179  -3.661656 -0.003027    3.179103\n",
       "99995  QywKC   9.535637  -6.878139  1.998296   53.906522\n",
       "99996  ptvty -10.160631 -12.558096  5.005581  137.945408\n",
       "99997  09gWa  -7.378891  -3.084104  4.998651  137.945408\n",
       "99998  rqwUm   0.665714  -6.152593  1.000146   30.132364\n",
       "99999  relB0  -3.426139  -7.794274 -0.003299    3.179103"
      ]
     },
     "metadata": {},
     "output_type": "display_data"
    },
    {
     "name": "stdout",
     "output_type": "stream",
     "text": [
      "<class 'pandas.core.frame.DataFrame'>\n",
      "RangeIndex: 100000 entries, 0 to 99999\n",
      "Data columns (total 5 columns):\n",
      " #   Column   Non-Null Count   Dtype  \n",
      "---  ------   --------------   -----  \n",
      " 0   id       100000 non-null  object \n",
      " 1   f0       100000 non-null  float64\n",
      " 2   f1       100000 non-null  float64\n",
      " 3   f2       100000 non-null  float64\n",
      " 4   product  100000 non-null  float64\n",
      "dtypes: float64(4), object(1)\n",
      "memory usage: 3.8+ MB\n"
     ]
    },
    {
     "data": {
      "text/plain": [
       "None"
      ]
     },
     "metadata": {},
     "output_type": "display_data"
    },
    {
     "name": "stdout",
     "output_type": "stream",
     "text": [
      "Количество дубликатов: 0\n",
      "Количество пропусков в каждом столбце:\n",
      "id         0\n",
      "f0         0\n",
      "f1         0\n",
      "f2         0\n",
      "product    0\n",
      "dtype: int64\n"
     ]
    }
   ],
   "source": [
    "geo_data_1  = load_display_info_data('/datasets/geo_data_1.csv')"
   ]
  },
  {
   "cell_type": "code",
   "execution_count": 5,
   "metadata": {},
   "outputs": [
    {
     "data": {
      "text/html": [
       "<div>\n",
       "<style scoped>\n",
       "    .dataframe tbody tr th:only-of-type {\n",
       "        vertical-align: middle;\n",
       "    }\n",
       "\n",
       "    .dataframe tbody tr th {\n",
       "        vertical-align: top;\n",
       "    }\n",
       "\n",
       "    .dataframe thead th {\n",
       "        text-align: right;\n",
       "    }\n",
       "</style>\n",
       "<table border=\"1\" class=\"dataframe\">\n",
       "  <thead>\n",
       "    <tr style=\"text-align: right;\">\n",
       "      <th></th>\n",
       "      <th>id</th>\n",
       "      <th>f0</th>\n",
       "      <th>f1</th>\n",
       "      <th>f2</th>\n",
       "      <th>product</th>\n",
       "    </tr>\n",
       "  </thead>\n",
       "  <tbody>\n",
       "    <tr>\n",
       "      <th>0</th>\n",
       "      <td>fwXo0</td>\n",
       "      <td>-1.146987</td>\n",
       "      <td>0.963328</td>\n",
       "      <td>-0.828965</td>\n",
       "      <td>27.758673</td>\n",
       "    </tr>\n",
       "    <tr>\n",
       "      <th>1</th>\n",
       "      <td>WJtFt</td>\n",
       "      <td>0.262778</td>\n",
       "      <td>0.269839</td>\n",
       "      <td>-2.530187</td>\n",
       "      <td>56.069697</td>\n",
       "    </tr>\n",
       "    <tr>\n",
       "      <th>2</th>\n",
       "      <td>ovLUW</td>\n",
       "      <td>0.194587</td>\n",
       "      <td>0.289035</td>\n",
       "      <td>-5.586433</td>\n",
       "      <td>62.871910</td>\n",
       "    </tr>\n",
       "    <tr>\n",
       "      <th>3</th>\n",
       "      <td>q6cA6</td>\n",
       "      <td>2.236060</td>\n",
       "      <td>-0.553760</td>\n",
       "      <td>0.930038</td>\n",
       "      <td>114.572842</td>\n",
       "    </tr>\n",
       "    <tr>\n",
       "      <th>4</th>\n",
       "      <td>WPMUX</td>\n",
       "      <td>-0.515993</td>\n",
       "      <td>1.716266</td>\n",
       "      <td>5.899011</td>\n",
       "      <td>149.600746</td>\n",
       "    </tr>\n",
       "    <tr>\n",
       "      <th>5</th>\n",
       "      <td>LzZXx</td>\n",
       "      <td>-0.758092</td>\n",
       "      <td>0.710691</td>\n",
       "      <td>2.585887</td>\n",
       "      <td>90.222465</td>\n",
       "    </tr>\n",
       "    <tr>\n",
       "      <th>6</th>\n",
       "      <td>WBHRv</td>\n",
       "      <td>-0.574891</td>\n",
       "      <td>0.317727</td>\n",
       "      <td>1.773745</td>\n",
       "      <td>45.641478</td>\n",
       "    </tr>\n",
       "    <tr>\n",
       "      <th>7</th>\n",
       "      <td>XO8fn</td>\n",
       "      <td>-1.906649</td>\n",
       "      <td>-2.458350</td>\n",
       "      <td>-0.177097</td>\n",
       "      <td>72.480640</td>\n",
       "    </tr>\n",
       "    <tr>\n",
       "      <th>8</th>\n",
       "      <td>ybmQ5</td>\n",
       "      <td>1.776292</td>\n",
       "      <td>-0.279356</td>\n",
       "      <td>3.004156</td>\n",
       "      <td>106.616832</td>\n",
       "    </tr>\n",
       "    <tr>\n",
       "      <th>9</th>\n",
       "      <td>OilcN</td>\n",
       "      <td>-1.214452</td>\n",
       "      <td>-0.439314</td>\n",
       "      <td>5.922514</td>\n",
       "      <td>52.954532</td>\n",
       "    </tr>\n",
       "  </tbody>\n",
       "</table>\n",
       "</div>"
      ],
      "text/plain": [
       "      id        f0        f1        f2     product\n",
       "0  fwXo0 -1.146987  0.963328 -0.828965   27.758673\n",
       "1  WJtFt  0.262778  0.269839 -2.530187   56.069697\n",
       "2  ovLUW  0.194587  0.289035 -5.586433   62.871910\n",
       "3  q6cA6  2.236060 -0.553760  0.930038  114.572842\n",
       "4  WPMUX -0.515993  1.716266  5.899011  149.600746\n",
       "5  LzZXx -0.758092  0.710691  2.585887   90.222465\n",
       "6  WBHRv -0.574891  0.317727  1.773745   45.641478\n",
       "7  XO8fn -1.906649 -2.458350 -0.177097   72.480640\n",
       "8  ybmQ5  1.776292 -0.279356  3.004156  106.616832\n",
       "9  OilcN -1.214452 -0.439314  5.922514   52.954532"
      ]
     },
     "metadata": {},
     "output_type": "display_data"
    },
    {
     "data": {
      "text/html": [
       "<div>\n",
       "<style scoped>\n",
       "    .dataframe tbody tr th:only-of-type {\n",
       "        vertical-align: middle;\n",
       "    }\n",
       "\n",
       "    .dataframe tbody tr th {\n",
       "        vertical-align: top;\n",
       "    }\n",
       "\n",
       "    .dataframe thead th {\n",
       "        text-align: right;\n",
       "    }\n",
       "</style>\n",
       "<table border=\"1\" class=\"dataframe\">\n",
       "  <thead>\n",
       "    <tr style=\"text-align: right;\">\n",
       "      <th></th>\n",
       "      <th>id</th>\n",
       "      <th>f0</th>\n",
       "      <th>f1</th>\n",
       "      <th>f2</th>\n",
       "      <th>product</th>\n",
       "    </tr>\n",
       "  </thead>\n",
       "  <tbody>\n",
       "    <tr>\n",
       "      <th>99990</th>\n",
       "      <td>QlYmx</td>\n",
       "      <td>-1.182179</td>\n",
       "      <td>2.127844</td>\n",
       "      <td>2.338479</td>\n",
       "      <td>78.502786</td>\n",
       "    </tr>\n",
       "    <tr>\n",
       "      <th>99991</th>\n",
       "      <td>AAcyW</td>\n",
       "      <td>1.570887</td>\n",
       "      <td>-2.430724</td>\n",
       "      <td>5.733563</td>\n",
       "      <td>83.577214</td>\n",
       "    </tr>\n",
       "    <tr>\n",
       "      <th>99992</th>\n",
       "      <td>yDrAl</td>\n",
       "      <td>-2.365583</td>\n",
       "      <td>0.148640</td>\n",
       "      <td>2.062216</td>\n",
       "      <td>151.374166</td>\n",
       "    </tr>\n",
       "    <tr>\n",
       "      <th>99993</th>\n",
       "      <td>uHI1Q</td>\n",
       "      <td>2.633658</td>\n",
       "      <td>1.873285</td>\n",
       "      <td>-0.498951</td>\n",
       "      <td>33.627420</td>\n",
       "    </tr>\n",
       "    <tr>\n",
       "      <th>99994</th>\n",
       "      <td>B2U80</td>\n",
       "      <td>-1.889398</td>\n",
       "      <td>0.851823</td>\n",
       "      <td>6.805412</td>\n",
       "      <td>96.866615</td>\n",
       "    </tr>\n",
       "    <tr>\n",
       "      <th>99995</th>\n",
       "      <td>4GxBu</td>\n",
       "      <td>-1.777037</td>\n",
       "      <td>1.125220</td>\n",
       "      <td>6.263374</td>\n",
       "      <td>172.327046</td>\n",
       "    </tr>\n",
       "    <tr>\n",
       "      <th>99996</th>\n",
       "      <td>YKFjq</td>\n",
       "      <td>-1.261523</td>\n",
       "      <td>-0.894828</td>\n",
       "      <td>2.524545</td>\n",
       "      <td>138.748846</td>\n",
       "    </tr>\n",
       "    <tr>\n",
       "      <th>99997</th>\n",
       "      <td>tKPY3</td>\n",
       "      <td>-1.199934</td>\n",
       "      <td>-2.957637</td>\n",
       "      <td>5.219411</td>\n",
       "      <td>157.080080</td>\n",
       "    </tr>\n",
       "    <tr>\n",
       "      <th>99998</th>\n",
       "      <td>nmxp2</td>\n",
       "      <td>-2.419896</td>\n",
       "      <td>2.417221</td>\n",
       "      <td>-5.548444</td>\n",
       "      <td>51.795253</td>\n",
       "    </tr>\n",
       "    <tr>\n",
       "      <th>99999</th>\n",
       "      <td>V9kWn</td>\n",
       "      <td>-2.551421</td>\n",
       "      <td>-2.025625</td>\n",
       "      <td>6.090891</td>\n",
       "      <td>102.775767</td>\n",
       "    </tr>\n",
       "  </tbody>\n",
       "</table>\n",
       "</div>"
      ],
      "text/plain": [
       "          id        f0        f1        f2     product\n",
       "99990  QlYmx -1.182179  2.127844  2.338479   78.502786\n",
       "99991  AAcyW  1.570887 -2.430724  5.733563   83.577214\n",
       "99992  yDrAl -2.365583  0.148640  2.062216  151.374166\n",
       "99993  uHI1Q  2.633658  1.873285 -0.498951   33.627420\n",
       "99994  B2U80 -1.889398  0.851823  6.805412   96.866615\n",
       "99995  4GxBu -1.777037  1.125220  6.263374  172.327046\n",
       "99996  YKFjq -1.261523 -0.894828  2.524545  138.748846\n",
       "99997  tKPY3 -1.199934 -2.957637  5.219411  157.080080\n",
       "99998  nmxp2 -2.419896  2.417221 -5.548444   51.795253\n",
       "99999  V9kWn -2.551421 -2.025625  6.090891  102.775767"
      ]
     },
     "metadata": {},
     "output_type": "display_data"
    },
    {
     "name": "stdout",
     "output_type": "stream",
     "text": [
      "<class 'pandas.core.frame.DataFrame'>\n",
      "RangeIndex: 100000 entries, 0 to 99999\n",
      "Data columns (total 5 columns):\n",
      " #   Column   Non-Null Count   Dtype  \n",
      "---  ------   --------------   -----  \n",
      " 0   id       100000 non-null  object \n",
      " 1   f0       100000 non-null  float64\n",
      " 2   f1       100000 non-null  float64\n",
      " 3   f2       100000 non-null  float64\n",
      " 4   product  100000 non-null  float64\n",
      "dtypes: float64(4), object(1)\n",
      "memory usage: 3.8+ MB\n"
     ]
    },
    {
     "data": {
      "text/plain": [
       "None"
      ]
     },
     "metadata": {},
     "output_type": "display_data"
    },
    {
     "name": "stdout",
     "output_type": "stream",
     "text": [
      "Количество дубликатов: 0\n",
      "Количество пропусков в каждом столбце:\n",
      "id         0\n",
      "f0         0\n",
      "f1         0\n",
      "f2         0\n",
      "product    0\n",
      "dtype: int64\n"
     ]
    }
   ],
   "source": [
    "geo_data_2 = load_display_info_data('/datasets/geo_data_2.csv')"
   ]
  },
  {
   "cell_type": "markdown",
   "metadata": {},
   "source": [
    "## Обучение и проверка модели"
   ]
  },
  {
   "cell_type": "markdown",
   "metadata": {},
   "source": [
    "Теперь разделим данные на обучающую и валидационную выборки в соотношении 75:25."
   ]
  },
  {
   "cell_type": "code",
   "execution_count": 6,
   "metadata": {},
   "outputs": [],
   "source": [
    "features_0 = geo_data_0.drop(['id', 'product'], axis=1)\n",
    "target_0 = geo_data_0['product']\n",
    "features_1 = geo_data_1.drop(['id', 'product'], axis=1)\n",
    "target_1 = geo_data_1['product']\n",
    "features_2 = geo_data_2.drop(['id', 'product'], axis=1)\n",
    "target_2 = geo_data_2['product']\n",
    "\n",
    "# Разделение на обучающую и валидационную выборки\n",
    "features_train_0, features_valid_0, target_train_0, target_valid_0 = train_test_split(\n",
    "    features_0, target_0, test_size=0.25, random_state=12345)\n",
    "features_train_1, features_valid_1, target_train_1, target_valid_1 = train_test_split(\n",
    "    features_1, target_1, test_size=0.25, random_state=12345)\n",
    "features_train_2, features_valid_2, target_train_2, target_valid_2 = train_test_split(\n",
    "    features_2, target_2, test_size=0.25, random_state=12345)"
   ]
  },
  {
   "cell_type": "markdown",
   "metadata": {},
   "source": [
    "Теперь, обучим модели на тренировочной выборке и сделаем предсказания на валидационной выборке."
   ]
  },
  {
   "cell_type": "code",
   "execution_count": 7,
   "metadata": {},
   "outputs": [],
   "source": [
    "# Обучение моделей и предсказания на валидационной выборке\n",
    "model_0 = LinearRegression()\n",
    "model_0.fit(features_train_0, target_train_0)\n",
    "predictions_valid_0 = model_0.predict(features_valid_0)\n",
    "\n",
    "model_1 = LinearRegression()\n",
    "model_1.fit(features_train_1, target_train_1)\n",
    "predictions_valid_1 = model_1.predict(features_valid_1)\n",
    "\n",
    "model_2 = LinearRegression()\n",
    "model_2.fit(features_train_2, target_train_2)\n",
    "predictions_valid_2 = model_2.predict(features_valid_2)"
   ]
  },
  {
   "cell_type": "markdown",
   "metadata": {},
   "source": [
    "Сохраняем предсказания и правильные ответы на валидационной выборке."
   ]
  },
  {
   "cell_type": "code",
   "execution_count": 8,
   "metadata": {},
   "outputs": [],
   "source": [
    "# Сохранение предсказаний и правильных ответов на валидационной выборке\n",
    "predictions_valid_0 = pd.Series(predictions_valid_0, index=target_valid_0.index)\n",
    "predictions_valid_1 = pd.Series(predictions_valid_1, index=target_valid_1.index)\n",
    "predictions_valid_2 = pd.Series(predictions_valid_2, index=target_valid_2.index)"
   ]
  },
  {
   "cell_type": "markdown",
   "metadata": {},
   "source": [
    "Для каждого региона мы обучили модель и получили предсказания на валидационной выборке. Теперь мы можем посчитать средний запас предсказанного сырья и RMSE модели для каждого региона."
   ]
  },
  {
   "cell_type": "code",
   "execution_count": 9,
   "metadata": {},
   "outputs": [
    {
     "name": "stdout",
     "output_type": "stream",
     "text": [
      "Средний запас предсказанного сырья для региона 0: 92.59256778438035\n",
      "RMSE модели для региона 0: 37.5794217150813\n",
      "\n",
      "Средний запас предсказанного сырья для региона 1: 68.728546895446\n",
      "RMSE модели для региона 1: 0.893099286775617\n",
      "\n",
      "Средний запас предсказанного сырья для региона 2: 94.96504596800489\n",
      "RMSE модели для региона 2: 40.02970873393434\n"
     ]
    }
   ],
   "source": [
    "mean_predicted_0 = predictions_valid_0.mean()\n",
    "mean_predicted_1 = predictions_valid_1.mean()\n",
    "mean_predicted_2 = predictions_valid_2.mean()\n",
    "\n",
    "rmse_0 = mean_squared_error(target_valid_0, predictions_valid_0) ** 0.5\n",
    "rmse_1 = mean_squared_error(target_valid_1, predictions_valid_1) ** 0.5\n",
    "rmse_2 = mean_squared_error(target_valid_2, predictions_valid_2) ** 0.5\n",
    "\n",
    "# Вывод результатов\n",
    "print('Средний запас предсказанного сырья для региона 0:', mean_predicted_0)\n",
    "print('RMSE модели для региона 0:', rmse_0)\n",
    "print()\n",
    "print('Средний запас предсказанного сырья для региона 1:', mean_predicted_1)\n",
    "print('RMSE модели для региона 1:', rmse_1)\n",
    "print()\n",
    "print('Средний запас предсказанного сырья для региона 2:', mean_predicted_2)\n",
    "print('RMSE модели для региона 2:', rmse_2)"
   ]
  },
  {
   "cell_type": "markdown",
   "metadata": {},
   "source": [
    "На основе предоставленных цифр, можно сделать следующие выводы и рекомендации для бизнеса:\n",
    "\n",
    "1. Средний запас предсказанного сырья:\n",
    "   - Регион 2 имеет наивысший средний запас предсказанного сырья (94.97 тыс. баррелей), что указывает на потенциал высокой добычи и возможную прибыльность разработки скважин в этом регионе.\n",
    "   - Регион 0 также имеет относительно высокий средний запас предсказанного сырья (92.59 тыс. баррелей), что также говорит о потенциале для прибыльной добычи.\n",
    "\n",
    "2. RMSE модели:\n",
    "   - Регион 1 имеет наименьшее значение RMSE (0.89), что указывает на хорошую точность модели при предсказании запасов сырья в этом регионе. Это говорит о том, что модель предсказывает запасы сырья с высокой точностью.\n",
    "\n",
    "Однако, стоит учесть, что значения среднего запаса предсказанного сырья и RMSE модели не являются достаточной основой для окончательного решения о выборе региона для разработки скважин. Для принятия обоснованного решения следует провести дополнительный анализ, включая факторы, такие как экономическая эффективность, стоимость разработки, риски и другие соображения. \n",
    "\n",
    "Рекомендуется провести более детальное исследование, включая обширный анализ данных, оценку финансовой эффективности и рисков, а также принятие во внимание других факторов, прежде чем делать окончательный выбор региона для разработки скважин."
   ]
  },
  {
   "cell_type": "markdown",
   "metadata": {},
   "source": [
    "## Подготовка к расчёту прибыли"
   ]
  },
  {
   "cell_type": "markdown",
   "metadata": {},
   "source": [
    "Все ключевые значения для расчётов сохранены в отдельных переменных:\n",
    "\n",
    "budget - бюджет на разработку скважин в регионе;\n",
    "\n",
    "price_per_unit - цена за единицу продукции;\n",
    "\n",
    "product_per_well - объём продукции, которую можно получить с одной скважины;\n",
    "\n",
    "wells_to_drill - количество скважин, которое может быть разработано в регионе."
   ]
  },
  {
   "cell_type": "code",
   "execution_count": 10,
   "metadata": {},
   "outputs": [
    {
     "name": "stdout",
     "output_type": "stream",
     "text": [
      "Достаточный объем сырья для безубыточной разработки новой скважины: 111.11111111111111\n"
     ]
    }
   ],
   "source": [
    "# Стоимость одной тысячи баррелей сырья в рублях\n",
    "PRICE_PER_UNIT = 450 \n",
    "\n",
    "# Бюджет на разработку скважин в регионе в рублях\n",
    "BUDGET = 10 * 10**9\n",
    "\n",
    "# Количество скважин для разработки\n",
    "N_WELLS = 200\n",
    "\n",
    "# Рассчитываем достаточный объем сырья для безубыточной разработки новой скважины\n",
    "volume_per_well = BUDGET / (N_WELLS * PRICE_PER_UNIT)\n",
    "print(\"Достаточный объем сырья для безубыточной разработки новой скважины:\", volume_per_well / 1000)"
   ]
  },
  {
   "cell_type": "markdown",
   "metadata": {},
   "source": [
    "Достаточный объем сырья для безубыточной разработки новой скважины равен 111111.11 тыс. баррелей, что превышает средние значения запасов скважин по всем регионам. Это говорит о том, что в принципе в каждом регионе можно найти скважины, которые позволят безубыточно разработать месторождение, но важно также учитывать риски и выбирать только те регионы, в которых вероятность убытков меньше 2.5% и при этом ожидаемая прибыль будет максимальной."
   ]
  },
  {
   "cell_type": "markdown",
   "metadata": {},
   "source": [
    "## Расчёт прибыли и рисков "
   ]
  },
  {
   "cell_type": "code",
   "execution_count": 11,
   "metadata": {},
   "outputs": [],
   "source": [
    "target_valid_0 = target_valid_0.reset_index(drop=True)\n",
    "target_valid_1 = target_valid_1.reset_index(drop=True)\n",
    "target_valid_2 = target_valid_2.reset_index(drop=True)\n",
    "\n",
    "predictions_valid_0 = predictions_valid_0.reset_index(drop=True)\n",
    "predictions_valid_1 = predictions_valid_1.reset_index(drop=True)\n",
    "predictions_valid_2 = predictions_valid_2.reset_index(drop=True)\n",
    "\n",
    "# Объединяем предсказания и целевые значения для валидационных данных\n",
    "predictions_valid = pd.concat([predictions_valid_0, predictions_valid_1, predictions_valid_2])\n",
    "target_valid = pd.concat([target_valid_0, target_valid_1, target_valid_2])"
   ]
  },
  {
   "cell_type": "code",
   "execution_count": 12,
   "metadata": {},
   "outputs": [],
   "source": [
    "def revenue(target_valid, predictions_valid, N_WELLS, BUDGET, PRICE_PER_UNIT):\n",
    "    # получаем индексы 200 лучших месторождений с максимальным объемом нефти\n",
    "    top_n_wells_idx = target_valid.sort_values(ascending=False)[:N_WELLS].index\n",
    "    \n",
    "    # определим верные значения для отобранных 200 лучших месторождений \n",
    "    target_valid = target_valid.loc[top_n_wells_idx].drop_duplicates()\n",
    "    \n",
    "    # рассчитаем доход с 200 лучших месторождений \n",
    "    revenue = target_valid.sum() * PRICE_PER_UNIT * 1000\n",
    "    \n",
    "    # рассчитаем прибыль с 200 лучших месторождений \n",
    "    profit = revenue - BUDGET\n",
    "    \n",
    "    return profit"
   ]
  },
  {
   "cell_type": "code",
   "execution_count": 13,
   "metadata": {},
   "outputs": [
    {
     "name": "stdout",
     "output_type": "stream",
     "text": [
      "Прибыль для первого региона: 6510947580.318811\n"
     ]
    }
   ],
   "source": [
    "profit_0 = revenue(target_valid=target_valid_0, predictions_valid=predictions_valid_0, N_WELLS=N_WELLS, BUDGET=BUDGET, PRICE_PER_UNIT=PRICE_PER_UNIT)\n",
    "print('Прибыль для первого региона:', profit_0)"
   ]
  },
  {
   "cell_type": "code",
   "execution_count": 14,
   "metadata": {},
   "outputs": [
    {
     "name": "stdout",
     "output_type": "stream",
     "text": [
      "Прибыль для второго региона: -9937924566.516592\n"
     ]
    }
   ],
   "source": [
    "profit_1 = revenue(target_valid=target_valid_1, predictions_valid=predictions_valid_1, N_WELLS=N_WELLS, BUDGET=BUDGET, PRICE_PER_UNIT=PRICE_PER_UNIT)\n",
    "print('Прибыль для второго региона:', profit_1)"
   ]
  },
  {
   "cell_type": "code",
   "execution_count": 15,
   "metadata": {},
   "outputs": [
    {
     "name": "stdout",
     "output_type": "stream",
     "text": [
      "Прибыль для третьего региона: 6942663159.191746\n"
     ]
    }
   ],
   "source": [
    "profit_2 = revenue(target_valid=target_valid_2, predictions_valid=predictions_valid_2, N_WELLS=N_WELLS, BUDGET=BUDGET, PRICE_PER_UNIT=PRICE_PER_UNIT)\n",
    "print('Прибыль для третьего региона:', profit_2)"
   ]
  },
  {
   "cell_type": "code",
   "execution_count": 16,
   "metadata": {
    "scrolled": true
   },
   "outputs": [
    {
     "name": "stdout",
     "output_type": "stream",
     "text": [
      "Регион 0:\n",
      "Средняя прибыль: 425938526.91059244\n",
      "95%-й доверительный интервал: -102090094.83793654 947976353.358369\n",
      "Риск убытков: 0.06\n",
      "Регион 1:\n",
      "Средняя прибыль: 515222773.4432898\n",
      "95%-й доверительный интервал: 68873225.37050176 931547591.2570494\n",
      "Риск убытков: 0.01\n",
      "Регион 2:\n",
      "Средняя прибыль: 435008362.7827556\n",
      "95%-й доверительный интервал: -128880547.32978901 969706954.180266\n",
      "Риск убытков: 0.064\n"
     ]
    }
   ],
   "source": [
    "def calculate_revenue(target_valid, predictions_valid, N_WELLS, PRICE_PER_UNIT):\n",
    "    top_n_wells_idx = predictions_valid.sort_values(ascending=False)[:N_WELLS].index\n",
    "    target_valid = target_valid.loc[top_n_wells_idx][:N_WELLS]  # Изменено\n",
    "    revenue = target_valid.sum() * PRICE_PER_UNIT * 1000\n",
    "    return revenue\n",
    "\n",
    "\n",
    "def calculate_profit_bootstrap(target_valid, predictions_valid, N_WELLS, BUDGET, PRICE_PER_UNIT):\n",
    "    state = np.random.RandomState(12345)\n",
    "    profits = []\n",
    "    for i in range(1000):\n",
    "        target_subsample = target_valid.sample(n=500, replace=True, random_state=state)  # Выделение 500 скважин в sample\n",
    "        probs_subsample = predictions_valid[target_subsample.index].sort_values(ascending=False)\n",
    "        rev = calculate_revenue(target_subsample, probs_subsample, N_WELLS, PRICE_PER_UNIT)\n",
    "        profit = rev - BUDGET\n",
    "        profits.append(profit)\n",
    "    return profits\n",
    "\n",
    "def calculate_profit_statistics(profits):\n",
    "    mean_profit = np.mean(profits)\n",
    "    lower_bound = np.percentile(profits, 2.5)\n",
    "    upper_bound = np.percentile(profits, 97.5)\n",
    "    risk_of_loss = np.sum(np.array(profits) < 0) / len(profits)\n",
    "    return mean_profit, lower_bound, upper_bound, risk_of_loss\n",
    "\n",
    "\n",
    "profits_0 = calculate_profit_bootstrap(target_valid_0, predictions_valid_0, 200, BUDGET, PRICE_PER_UNIT)\n",
    "mean_profit_0, lower_bound_0, upper_bound_0, risk_of_loss_0 = calculate_profit_statistics(profits_0)\n",
    "\n",
    "profits_1 = calculate_profit_bootstrap(target_valid_1, predictions_valid_1, 200, BUDGET, PRICE_PER_UNIT)\n",
    "mean_profit_1, lower_bound_1, upper_bound_1, risk_of_loss_1 = calculate_profit_statistics(profits_1)\n",
    "\n",
    "profits_2 = calculate_profit_bootstrap(target_valid_2, predictions_valid_2, 200, BUDGET, PRICE_PER_UNIT)\n",
    "mean_profit_2, lower_bound_2, upper_bound_2, risk_of_loss_2 = calculate_profit_statistics(profits_2)\n",
    "\n",
    "print('Регион 0:')\n",
    "print('Средняя прибыль:', mean_profit_0)\n",
    "print('95%-й доверительный интервал:', lower_bound_0, upper_bound_0)\n",
    "print('Риск убытков:', risk_of_loss_0)\n",
    "\n",
    "print('Регион 1:')\n",
    "print('Средняя прибыль:', mean_profit_1)\n",
    "print('95%-й доверительный интервал:', lower_bound_1, upper_bound_1)\n",
    "print('Риск убытков:', risk_of_loss_1)\n",
    "\n",
    "print('Регион 2:')\n",
    "print('Средняя прибыль:', mean_profit_2)\n",
    "print('95%-й доверительный интервал:', lower_bound_2, upper_bound_2)\n",
    "print('Риск убытков:', risk_of_loss_2)"
   ]
  },
  {
   "cell_type": "markdown",
   "metadata": {},
   "source": [
    "На основании проведенного анализа трех регионов месторождений можно сделать следующие выводы:\n",
    "\n",
    "1. Регион 0: Средняя прибыль составляет примерно 425,938,527 единиц. 95%-й доверительный интервал охватывает значения от -102,090,095 до 947,976,353. Риск убытков составляет 6%. Это означает, что в данном регионе существует высокий риск получения убытков.\n",
    "\n",
    "2. Регион 1: Средняя прибыль составляет примерно 515,222,773 единиц. 95%-й доверительный интервал охватывает значения от 68,873,225 до 931,547,591. Риск убытков составляет 1%. Этот регион демонстрирует более высокую среднюю прибыль и ниже риск убытков по сравнению с регионом 0.\n",
    "\n",
    "3. Регион 2: Средняя прибыль составляет примерно 435,008,363 единиц. 95%-й доверительный интервал охватывает значения от -128,880,547 до 969,706,954. Риск убытков составляет 6.4%. Этот регион также имеет высокий риск убытков и близкую к среднюю прибыль к региону 0.\n",
    "\n",
    "С учетом этих результатов, регион 1 выглядит наиболее перспективным для разработки месторождений, так как он демонстрирует самую высокую среднюю прибыль и более низкий риск убытков. "
   ]
  },
  {
   "cell_type": "markdown",
   "metadata": {},
   "source": [
    "## Чек-лист готовности проекта"
   ]
  },
  {
   "cell_type": "markdown",
   "metadata": {},
   "source": [
    "Поставьте 'x' в выполненных пунктах. Далее нажмите Shift+Enter."
   ]
  },
  {
   "cell_type": "markdown",
   "metadata": {},
   "source": 
  },
  {
   "cell_type": "code",
   "execution_count": null,
   "metadata": {},
   "outputs": [],
   "source": []
  }
 ],
 "metadata": {
  "ExecuteTimeLog": [
   {
    "duration": 14,
    "start_time": "2023-05-13T21:03:45.783Z"
   },
   {
    "duration": 126,
    "start_time": "2023-05-13T21:07:25.603Z"
   },
   {
    "duration": 1648,
    "start_time": "2023-05-13T21:07:34.256Z"
   },
   {
    "duration": 6,
    "start_time": "2023-05-13T21:14:36.025Z"
   },
   {
    "duration": 113,
    "start_time": "2023-05-13T21:17:39.240Z"
   },
   {
    "duration": 5,
    "start_time": "2023-05-13T21:17:43.059Z"
   },
   {
    "duration": 586,
    "start_time": "2023-05-13T21:17:43.645Z"
   },
   {
    "duration": 270,
    "start_time": "2023-05-13T21:19:14.420Z"
   },
   {
    "duration": 882,
    "start_time": "2023-05-13T21:20:35.227Z"
   },
   {
    "duration": 667,
    "start_time": "2023-05-13T21:22:50.216Z"
   },
   {
    "duration": 9,
    "start_time": "2023-05-13T21:38:23.023Z"
   },
   {
    "duration": 11,
    "start_time": "2023-05-13T21:41:19.930Z"
   },
   {
    "duration": 4,
    "start_time": "2023-05-13T21:46:01.587Z"
   },
   {
    "duration": 422,
    "start_time": "2023-05-13T21:46:22.071Z"
   },
   {
    "duration": 434,
    "start_time": "2023-05-13T21:48:02.465Z"
   },
   {
    "duration": 3,
    "start_time": "2023-05-13T21:56:38.017Z"
   },
   {
    "duration": 3,
    "start_time": "2023-05-13T22:06:03.123Z"
   },
   {
    "duration": 4,
    "start_time": "2023-05-13T22:12:10.417Z"
   },
   {
    "duration": 48,
    "start_time": "2023-05-13T22:14:47.406Z"
   },
   {
    "duration": 13,
    "start_time": "2023-05-13T22:14:54.782Z"
   },
   {
    "duration": 9,
    "start_time": "2023-05-13T22:24:42.707Z"
   },
   {
    "duration": 4,
    "start_time": "2023-05-13T22:33:43.156Z"
   },
   {
    "duration": 10,
    "start_time": "2023-05-13T22:33:45.297Z"
   },
   {
    "duration": 10,
    "start_time": "2023-05-13T22:34:58.043Z"
   },
   {
    "duration": 988,
    "start_time": "2023-05-13T22:42:24.717Z"
   },
   {
    "duration": 4,
    "start_time": "2023-05-13T22:42:25.708Z"
   },
   {
    "duration": 219,
    "start_time": "2023-05-13T22:42:25.713Z"
   },
   {
    "duration": 255,
    "start_time": "2023-05-13T22:42:25.934Z"
   },
   {
    "duration": 181,
    "start_time": "2023-05-13T22:42:26.191Z"
   },
   {
    "duration": 20,
    "start_time": "2023-05-13T22:42:26.373Z"
   },
   {
    "duration": 11,
    "start_time": "2023-05-13T22:42:26.395Z"
   },
   {
    "duration": 483,
    "start_time": "2023-05-13T22:42:26.408Z"
   },
   {
    "duration": 92,
    "start_time": "2023-05-13T22:42:26.892Z"
   },
   {
    "duration": 121,
    "start_time": "2023-05-13T22:42:26.987Z"
   },
   {
    "duration": 0,
    "start_time": "2023-05-13T22:42:27.110Z"
   },
   {
    "duration": 1051,
    "start_time": "2023-05-13T22:46:02.892Z"
   },
   {
    "duration": 5,
    "start_time": "2023-05-13T22:46:03.945Z"
   },
   {
    "duration": 289,
    "start_time": "2023-05-13T22:46:03.952Z"
   },
   {
    "duration": 202,
    "start_time": "2023-05-13T22:46:04.243Z"
   },
   {
    "duration": 183,
    "start_time": "2023-05-13T22:46:04.447Z"
   },
   {
    "duration": 13,
    "start_time": "2023-05-13T22:46:04.631Z"
   },
   {
    "duration": 6,
    "start_time": "2023-05-13T22:46:04.645Z"
   },
   {
    "duration": 537,
    "start_time": "2023-05-13T22:46:04.652Z"
   },
   {
    "duration": 7,
    "start_time": "2023-05-13T22:46:05.190Z"
   },
   {
    "duration": 202,
    "start_time": "2023-05-13T22:46:05.198Z"
   },
   {
    "duration": 0,
    "start_time": "2023-05-13T22:46:05.402Z"
   },
   {
    "duration": 263,
    "start_time": "2023-05-13T22:48:48.422Z"
   },
   {
    "duration": 10,
    "start_time": "2023-05-13T22:48:52.461Z"
   },
   {
    "duration": 12,
    "start_time": "2023-05-13T22:49:08.303Z"
   },
   {
    "duration": 22,
    "start_time": "2023-05-13T22:50:14.196Z"
   },
   {
    "duration": 17,
    "start_time": "2023-05-13T22:52:10.935Z"
   },
   {
    "duration": 15,
    "start_time": "2023-05-13T23:06:37.251Z"
   },
   {
    "duration": 20,
    "start_time": "2023-05-13T23:07:44.996Z"
   },
   {
    "duration": 6,
    "start_time": "2023-05-13T23:09:21.017Z"
   },
   {
    "duration": 13,
    "start_time": "2023-05-13T23:30:35.424Z"
   },
   {
    "duration": 4,
    "start_time": "2023-05-13T23:32:52.404Z"
   },
   {
    "duration": 16,
    "start_time": "2023-05-13T23:32:56.076Z"
   },
   {
    "duration": 976,
    "start_time": "2023-05-13T23:33:11.728Z"
   },
   {
    "duration": 4,
    "start_time": "2023-05-13T23:33:12.706Z"
   },
   {
    "duration": 224,
    "start_time": "2023-05-13T23:33:12.711Z"
   },
   {
    "duration": 173,
    "start_time": "2023-05-13T23:33:12.936Z"
   },
   {
    "duration": 183,
    "start_time": "2023-05-13T23:33:13.111Z"
   },
   {
    "duration": 11,
    "start_time": "2023-05-13T23:33:13.296Z"
   },
   {
    "duration": 7,
    "start_time": "2023-05-13T23:33:13.308Z"
   },
   {
    "duration": 380,
    "start_time": "2023-05-13T23:33:13.316Z"
   },
   {
    "duration": 88,
    "start_time": "2023-05-13T23:33:13.698Z"
   },
   {
    "duration": 307,
    "start_time": "2023-05-13T23:33:13.789Z"
   },
   {
    "duration": 4,
    "start_time": "2023-05-13T23:33:14.185Z"
   },
   {
    "duration": 210,
    "start_time": "2023-05-13T23:33:14.191Z"
   },
   {
    "duration": 3,
    "start_time": "2023-05-13T23:36:40.105Z"
   },
   {
    "duration": 19,
    "start_time": "2023-05-13T23:36:41.134Z"
   },
   {
    "duration": 9,
    "start_time": "2023-05-13T23:43:40.352Z"
   },
   {
    "duration": 11,
    "start_time": "2023-05-13T23:44:10.477Z"
   },
   {
    "duration": 13,
    "start_time": "2023-05-13T23:45:15.073Z"
   },
   {
    "duration": 817,
    "start_time": "2023-05-13T23:45:59.037Z"
   },
   {
    "duration": 13,
    "start_time": "2023-05-13T23:47:02.044Z"
   },
   {
    "duration": 4,
    "start_time": "2023-05-13T23:49:20.080Z"
   },
   {
    "duration": 8,
    "start_time": "2023-05-13T23:49:21.467Z"
   },
   {
    "duration": 4,
    "start_time": "2023-05-13T23:49:25.920Z"
   },
   {
    "duration": 9,
    "start_time": "2023-05-13T23:49:26.926Z"
   },
   {
    "duration": 991,
    "start_time": "2023-05-14T00:13:13.412Z"
   },
   {
    "duration": 4,
    "start_time": "2023-05-14T00:13:14.405Z"
   },
   {
    "duration": 213,
    "start_time": "2023-05-14T00:13:14.411Z"
   },
   {
    "duration": 165,
    "start_time": "2023-05-14T00:13:14.626Z"
   },
   {
    "duration": 166,
    "start_time": "2023-05-14T00:13:14.792Z"
   },
   {
    "duration": 42,
    "start_time": "2023-05-14T00:13:14.959Z"
   },
   {
    "duration": 182,
    "start_time": "2023-05-14T00:13:15.003Z"
   },
   {
    "duration": 8,
    "start_time": "2023-05-14T00:13:15.187Z"
   },
   {
    "duration": 54,
    "start_time": "2023-05-14T00:13:15.284Z"
   },
   {
    "duration": 0,
    "start_time": "2023-05-14T00:13:15.339Z"
   },
   {
    "duration": 0,
    "start_time": "2023-05-14T00:13:15.341Z"
   },
   {
    "duration": 0,
    "start_time": "2023-05-14T00:13:15.342Z"
   },
   {
    "duration": 8,
    "start_time": "2023-05-14T00:13:28.711Z"
   },
   {
    "duration": 1003,
    "start_time": "2023-05-14T00:46:11.778Z"
   },
   {
    "duration": 5,
    "start_time": "2023-05-14T00:46:12.782Z"
   },
   {
    "duration": 199,
    "start_time": "2023-05-14T00:46:12.789Z"
   },
   {
    "duration": 162,
    "start_time": "2023-05-14T00:46:12.989Z"
   },
   {
    "duration": 175,
    "start_time": "2023-05-14T00:46:13.153Z"
   },
   {
    "duration": 34,
    "start_time": "2023-05-14T00:46:13.331Z"
   },
   {
    "duration": 127,
    "start_time": "2023-05-14T00:46:13.366Z"
   },
   {
    "duration": 92,
    "start_time": "2023-05-14T00:46:13.494Z"
   },
   {
    "duration": 102,
    "start_time": "2023-05-14T00:46:13.587Z"
   },
   {
    "duration": 14,
    "start_time": "2023-05-14T00:46:13.690Z"
   },
   {
    "duration": 10,
    "start_time": "2023-05-14T00:46:13.705Z"
   },
   {
    "duration": 51,
    "start_time": "2023-05-14T00:46:13.716Z"
   },
   {
    "duration": 1061,
    "start_time": "2023-05-14T00:46:45.479Z"
   },
   {
    "duration": 5,
    "start_time": "2023-05-14T00:46:46.542Z"
   },
   {
    "duration": 205,
    "start_time": "2023-05-14T00:46:46.548Z"
   },
   {
    "duration": 174,
    "start_time": "2023-05-14T00:46:46.755Z"
   },
   {
    "duration": 193,
    "start_time": "2023-05-14T00:46:46.931Z"
   },
   {
    "duration": 33,
    "start_time": "2023-05-14T00:46:47.125Z"
   },
   {
    "duration": 229,
    "start_time": "2023-05-14T00:46:47.160Z"
   },
   {
    "duration": 4,
    "start_time": "2023-05-14T00:46:47.390Z"
   },
   {
    "duration": 111,
    "start_time": "2023-05-14T00:46:47.486Z"
   },
   {
    "duration": 4,
    "start_time": "2023-05-14T00:46:47.598Z"
   },
   {
    "duration": 5,
    "start_time": "2023-05-14T00:46:47.603Z"
   },
   {
    "duration": 256,
    "start_time": "2023-05-14T00:46:47.610Z"
   },
   {
    "duration": 1049,
    "start_time": "2023-05-14T11:53:05.566Z"
   },
   {
    "duration": 5,
    "start_time": "2023-05-14T11:53:06.617Z"
   },
   {
    "duration": 532,
    "start_time": "2023-05-14T11:53:06.623Z"
   },
   {
    "duration": 669,
    "start_time": "2023-05-14T11:53:07.156Z"
   },
   {
    "duration": 690,
    "start_time": "2023-05-14T11:53:07.827Z"
   },
   {
    "duration": 44,
    "start_time": "2023-05-14T11:53:08.519Z"
   },
   {
    "duration": 50,
    "start_time": "2023-05-14T11:53:08.565Z"
   },
   {
    "duration": 83,
    "start_time": "2023-05-14T11:53:08.617Z"
   },
   {
    "duration": 96,
    "start_time": "2023-05-14T11:53:08.702Z"
   },
   {
    "duration": 119,
    "start_time": "2023-05-14T11:53:08.799Z"
   },
   {
    "duration": 0,
    "start_time": "2023-05-14T11:53:08.920Z"
   },
   {
    "duration": 0,
    "start_time": "2023-05-14T11:53:08.921Z"
   },
   {
    "duration": 0,
    "start_time": "2023-05-14T11:53:08.921Z"
   },
   {
    "duration": 5,
    "start_time": "2023-05-14T11:54:49.468Z"
   },
   {
    "duration": 5,
    "start_time": "2023-05-14T12:20:38.037Z"
   },
   {
    "duration": 3,
    "start_time": "2023-05-14T12:22:28.405Z"
   },
   {
    "duration": 46,
    "start_time": "2023-05-14T12:36:58.907Z"
   },
   {
    "duration": 11,
    "start_time": "2023-05-14T12:37:19.000Z"
   },
   {
    "duration": 46,
    "start_time": "2023-05-14T12:52:47.817Z"
   },
   {
    "duration": 8,
    "start_time": "2023-05-14T12:54:54.297Z"
   },
   {
    "duration": 8,
    "start_time": "2023-05-14T12:58:22.153Z"
   },
   {
    "duration": 8,
    "start_time": "2023-05-14T12:58:23.715Z"
   },
   {
    "duration": 10,
    "start_time": "2023-05-14T12:59:32.223Z"
   },
   {
    "duration": 1038,
    "start_time": "2023-05-14T13:01:12.109Z"
   },
   {
    "duration": 4,
    "start_time": "2023-05-14T13:01:13.149Z"
   },
   {
    "duration": 209,
    "start_time": "2023-05-14T13:01:13.154Z"
   },
   {
    "duration": 177,
    "start_time": "2023-05-14T13:01:13.365Z"
   },
   {
    "duration": 175,
    "start_time": "2023-05-14T13:01:13.544Z"
   },
   {
    "duration": 34,
    "start_time": "2023-05-14T13:01:13.720Z"
   },
   {
    "duration": 46,
    "start_time": "2023-05-14T13:01:13.755Z"
   },
   {
    "duration": 87,
    "start_time": "2023-05-14T13:01:13.803Z"
   },
   {
    "duration": 111,
    "start_time": "2023-05-14T13:01:13.891Z"
   },
   {
    "duration": 8,
    "start_time": "2023-05-14T13:01:14.003Z"
   },
   {
    "duration": 7,
    "start_time": "2023-05-14T13:01:14.012Z"
   },
   {
    "duration": 17,
    "start_time": "2023-05-14T13:01:14.020Z"
   },
   {
    "duration": 11,
    "start_time": "2023-05-14T13:01:14.038Z"
   },
   {
    "duration": 8,
    "start_time": "2023-05-14T13:01:14.051Z"
   },
   {
    "duration": 7,
    "start_time": "2023-05-14T13:01:14.060Z"
   },
   {
    "duration": 1015,
    "start_time": "2023-05-14T13:02:39.498Z"
   },
   {
    "duration": 4,
    "start_time": "2023-05-14T13:02:40.515Z"
   },
   {
    "duration": 224,
    "start_time": "2023-05-14T13:02:40.520Z"
   },
   {
    "duration": 184,
    "start_time": "2023-05-14T13:02:40.745Z"
   },
   {
    "duration": 206,
    "start_time": "2023-05-14T13:02:40.931Z"
   },
   {
    "duration": 35,
    "start_time": "2023-05-14T13:02:41.139Z"
   },
   {
    "duration": 214,
    "start_time": "2023-05-14T13:02:41.176Z"
   },
   {
    "duration": 97,
    "start_time": "2023-05-14T13:02:41.397Z"
   },
   {
    "duration": 26,
    "start_time": "2023-05-14T13:02:41.495Z"
   },
   {
    "duration": 16,
    "start_time": "2023-05-14T13:02:41.522Z"
   },
   {
    "duration": 11,
    "start_time": "2023-05-14T13:02:41.540Z"
   },
   {
    "duration": 5,
    "start_time": "2023-05-14T13:02:41.552Z"
   },
   {
    "duration": 132,
    "start_time": "2023-05-14T13:02:41.558Z"
   },
   {
    "duration": 0,
    "start_time": "2023-05-14T13:02:41.692Z"
   },
   {
    "duration": 0,
    "start_time": "2023-05-14T13:02:41.692Z"
   },
   {
    "duration": 965,
    "start_time": "2023-05-14T13:10:40.729Z"
   },
   {
    "duration": 4,
    "start_time": "2023-05-14T13:10:41.696Z"
   },
   {
    "duration": 203,
    "start_time": "2023-05-14T13:10:41.701Z"
   },
   {
    "duration": 164,
    "start_time": "2023-05-14T13:10:41.906Z"
   },
   {
    "duration": 172,
    "start_time": "2023-05-14T13:10:42.072Z"
   },
   {
    "duration": 29,
    "start_time": "2023-05-14T13:10:42.245Z"
   },
   {
    "duration": 118,
    "start_time": "2023-05-14T13:10:42.276Z"
   },
   {
    "duration": 99,
    "start_time": "2023-05-14T13:10:42.395Z"
   },
   {
    "duration": 109,
    "start_time": "2023-05-14T13:10:42.495Z"
   },
   {
    "duration": 9,
    "start_time": "2023-05-14T13:10:42.606Z"
   },
   {
    "duration": 1506,
    "start_time": "2023-05-14T13:10:42.617Z"
   },
   {
    "duration": 0,
    "start_time": "2023-05-14T13:10:44.124Z"
   },
   {
    "duration": 0,
    "start_time": "2023-05-14T13:10:44.125Z"
   },
   {
    "duration": 0,
    "start_time": "2023-05-14T13:10:44.126Z"
   },
   {
    "duration": 0,
    "start_time": "2023-05-14T13:10:44.127Z"
   },
   {
    "duration": 45,
    "start_time": "2023-05-14T13:11:10.399Z"
   },
   {
    "duration": 46,
    "start_time": "2023-05-14T13:11:39.708Z"
   },
   {
    "duration": 12,
    "start_time": "2023-05-14T13:12:20.251Z"
   },
   {
    "duration": 7,
    "start_time": "2023-05-14T13:12:49.909Z"
   },
   {
    "duration": 3,
    "start_time": "2023-05-14T13:12:51.852Z"
   },
   {
    "duration": 18,
    "start_time": "2023-05-14T13:12:52.905Z"
   },
   {
    "duration": 3,
    "start_time": "2023-05-14T13:20:36.614Z"
   },
   {
    "duration": 17,
    "start_time": "2023-05-14T13:20:37.553Z"
   },
   {
    "duration": 1008,
    "start_time": "2023-05-14T13:20:51.924Z"
   },
   {
    "duration": 3,
    "start_time": "2023-05-14T13:20:52.934Z"
   },
   {
    "duration": 263,
    "start_time": "2023-05-14T13:20:52.939Z"
   },
   {
    "duration": 180,
    "start_time": "2023-05-14T13:20:53.204Z"
   },
   {
    "duration": 195,
    "start_time": "2023-05-14T13:20:53.385Z"
   },
   {
    "duration": 38,
    "start_time": "2023-05-14T13:20:53.586Z"
   },
   {
    "duration": 167,
    "start_time": "2023-05-14T13:20:53.625Z"
   },
   {
    "duration": 77,
    "start_time": "2023-05-14T13:20:53.809Z"
   },
   {
    "duration": 28,
    "start_time": "2023-05-14T13:20:53.888Z"
   },
   {
    "duration": 5,
    "start_time": "2023-05-14T13:20:53.919Z"
   },
   {
    "duration": 8,
    "start_time": "2023-05-14T13:20:53.926Z"
   },
   {
    "duration": 11,
    "start_time": "2023-05-14T13:20:53.936Z"
   },
   {
    "duration": 122,
    "start_time": "2023-05-14T13:20:53.948Z"
   },
   {
    "duration": 0,
    "start_time": "2023-05-14T13:20:54.071Z"
   },
   {
    "duration": 0,
    "start_time": "2023-05-14T13:20:54.072Z"
   },
   {
    "duration": 8,
    "start_time": "2023-05-14T13:22:05.863Z"
   },
   {
    "duration": 21,
    "start_time": "2023-05-14T13:22:27.796Z"
   },
   {
    "duration": 1095,
    "start_time": "2023-05-14T13:24:18.282Z"
   },
   {
    "duration": 4,
    "start_time": "2023-05-14T13:24:19.379Z"
   },
   {
    "duration": 250,
    "start_time": "2023-05-14T13:24:19.385Z"
   },
   {
    "duration": 206,
    "start_time": "2023-05-14T13:24:19.636Z"
   },
   {
    "duration": 210,
    "start_time": "2023-05-14T13:24:19.844Z"
   },
   {
    "duration": 52,
    "start_time": "2023-05-14T13:24:20.055Z"
   },
   {
    "duration": 186,
    "start_time": "2023-05-14T13:24:20.108Z"
   },
   {
    "duration": 91,
    "start_time": "2023-05-14T13:24:20.299Z"
   },
   {
    "duration": 19,
    "start_time": "2023-05-14T13:24:20.392Z"
   },
   {
    "duration": 7,
    "start_time": "2023-05-14T13:24:20.413Z"
   },
   {
    "duration": 37,
    "start_time": "2023-05-14T13:24:20.422Z"
   },
   {
    "duration": 16,
    "start_time": "2023-05-14T13:24:20.461Z"
   },
   {
    "duration": 22,
    "start_time": "2023-05-14T13:24:20.479Z"
   },
   {
    "duration": 7,
    "start_time": "2023-05-14T13:24:20.503Z"
   },
   {
    "duration": 17,
    "start_time": "2023-05-14T13:24:20.512Z"
   },
   {
    "duration": 56,
    "start_time": "2023-05-14T13:26:32.665Z"
   },
   {
    "duration": 1295,
    "start_time": "2023-05-14T13:27:27.666Z"
   },
   {
    "duration": 1180,
    "start_time": "2023-05-14T13:41:34.902Z"
   },
   {
    "duration": 1046,
    "start_time": "2023-05-14T14:07:02.995Z"
   },
   {
    "duration": 3,
    "start_time": "2023-05-14T14:07:04.043Z"
   },
   {
    "duration": 192,
    "start_time": "2023-05-14T14:07:04.048Z"
   },
   {
    "duration": 169,
    "start_time": "2023-05-14T14:07:04.242Z"
   },
   {
    "duration": 160,
    "start_time": "2023-05-14T14:07:04.412Z"
   },
   {
    "duration": 35,
    "start_time": "2023-05-14T14:07:04.573Z"
   },
   {
    "duration": 176,
    "start_time": "2023-05-14T14:07:04.609Z"
   },
   {
    "duration": 4,
    "start_time": "2023-05-14T14:07:04.787Z"
   },
   {
    "duration": 105,
    "start_time": "2023-05-14T14:07:04.792Z"
   },
   {
    "duration": 86,
    "start_time": "2023-05-14T14:07:04.899Z"
   },
   {
    "duration": 26,
    "start_time": "2023-05-14T14:07:04.987Z"
   },
   {
    "duration": 18,
    "start_time": "2023-05-14T14:07:05.015Z"
   },
   {
    "duration": 27,
    "start_time": "2023-05-14T14:07:05.034Z"
   },
   {
    "duration": 12,
    "start_time": "2023-05-14T14:07:05.063Z"
   },
   {
    "duration": 7,
    "start_time": "2023-05-14T14:07:05.076Z"
   },
   {
    "duration": 1209,
    "start_time": "2023-05-14T14:07:05.084Z"
   },
   {
    "duration": 1653,
    "start_time": "2023-05-15T10:34:45.243Z"
   },
   {
    "duration": 4,
    "start_time": "2023-05-15T10:34:46.898Z"
   },
   {
    "duration": 215,
    "start_time": "2023-05-15T10:34:46.903Z"
   },
   {
    "duration": 185,
    "start_time": "2023-05-15T10:34:47.120Z"
   },
   {
    "duration": 195,
    "start_time": "2023-05-15T10:34:47.307Z"
   },
   {
    "duration": 39,
    "start_time": "2023-05-15T10:34:47.504Z"
   },
   {
    "duration": 233,
    "start_time": "2023-05-15T10:34:47.545Z"
   },
   {
    "duration": 5,
    "start_time": "2023-05-15T10:34:47.779Z"
   },
   {
    "duration": 195,
    "start_time": "2023-05-15T10:34:47.786Z"
   },
   {
    "duration": 8,
    "start_time": "2023-05-15T10:34:47.983Z"
   },
   {
    "duration": 11,
    "start_time": "2023-05-15T10:34:47.992Z"
   },
   {
    "duration": 3,
    "start_time": "2023-05-15T10:34:48.005Z"
   },
   {
    "duration": 16,
    "start_time": "2023-05-15T10:34:48.009Z"
   },
   {
    "duration": 7,
    "start_time": "2023-05-15T10:34:48.027Z"
   },
   {
    "duration": 13,
    "start_time": "2023-05-15T10:34:48.035Z"
   },
   {
    "duration": 1791,
    "start_time": "2023-05-15T10:34:48.050Z"
   },
   {
    "duration": 1003,
    "start_time": "2023-05-15T13:06:15.183Z"
   },
   {
    "duration": 4,
    "start_time": "2023-05-15T13:06:16.188Z"
   },
   {
    "duration": 653,
    "start_time": "2023-05-15T13:06:16.193Z"
   },
   {
    "duration": 1152,
    "start_time": "2023-05-15T13:06:16.847Z"
   },
   {
    "duration": 654,
    "start_time": "2023-05-15T13:06:18.002Z"
   },
   {
    "duration": 32,
    "start_time": "2023-05-15T13:06:18.658Z"
   },
   {
    "duration": 135,
    "start_time": "2023-05-15T13:06:18.692Z"
   },
   {
    "duration": 6,
    "start_time": "2023-05-15T13:06:18.833Z"
   },
   {
    "duration": 100,
    "start_time": "2023-05-15T13:06:18.907Z"
   },
   {
    "duration": 14,
    "start_time": "2023-05-15T13:06:19.009Z"
   },
   {
    "duration": 22,
    "start_time": "2023-05-15T13:06:19.025Z"
   },
   {
    "duration": 14,
    "start_time": "2023-05-15T13:06:19.048Z"
   },
   {
    "duration": 100,
    "start_time": "2023-05-15T13:06:19.064Z"
   },
   {
    "duration": 0,
    "start_time": "2023-05-15T13:06:19.165Z"
   },
   {
    "duration": 0,
    "start_time": "2023-05-15T13:06:19.167Z"
   },
   {
    "duration": 0,
    "start_time": "2023-05-15T13:06:19.168Z"
   },
   {
    "duration": 8,
    "start_time": "2023-05-15T13:08:25.080Z"
   },
   {
    "duration": 7,
    "start_time": "2023-05-15T13:08:26.049Z"
   },
   {
    "duration": 1019,
    "start_time": "2023-05-15T13:09:27.313Z"
   },
   {
    "duration": 4,
    "start_time": "2023-05-15T13:09:28.334Z"
   },
   {
    "duration": 214,
    "start_time": "2023-05-15T13:09:28.340Z"
   },
   {
    "duration": 181,
    "start_time": "2023-05-15T13:09:28.556Z"
   },
   {
    "duration": 186,
    "start_time": "2023-05-15T13:09:28.739Z"
   },
   {
    "duration": 33,
    "start_time": "2023-05-15T13:09:28.927Z"
   },
   {
    "duration": 146,
    "start_time": "2023-05-15T13:09:28.961Z"
   },
   {
    "duration": 3,
    "start_time": "2023-05-15T13:09:29.109Z"
   },
   {
    "duration": 105,
    "start_time": "2023-05-15T13:09:29.114Z"
   },
   {
    "duration": 5,
    "start_time": "2023-05-15T13:09:29.221Z"
   },
   {
    "duration": 9,
    "start_time": "2023-05-15T13:09:29.227Z"
   },
   {
    "duration": 17,
    "start_time": "2023-05-15T13:09:29.237Z"
   },
   {
    "duration": 114,
    "start_time": "2023-05-15T13:09:29.256Z"
   },
   {
    "duration": 0,
    "start_time": "2023-05-15T13:09:29.371Z"
   },
   {
    "duration": 0,
    "start_time": "2023-05-15T13:09:29.373Z"
   },
   {
    "duration": 0,
    "start_time": "2023-05-15T13:09:29.374Z"
   },
   {
    "duration": 3,
    "start_time": "2023-05-15T13:10:40.050Z"
   },
   {
    "duration": 6,
    "start_time": "2023-05-15T13:10:42.287Z"
   },
   {
    "duration": 7,
    "start_time": "2023-05-15T13:10:45.834Z"
   },
   {
    "duration": 7,
    "start_time": "2023-05-15T13:10:46.631Z"
   },
   {
    "duration": 3,
    "start_time": "2023-05-15T13:12:57.744Z"
   },
   {
    "duration": 16,
    "start_time": "2023-05-15T13:12:59.500Z"
   },
   {
    "duration": 6,
    "start_time": "2023-05-15T13:13:02.080Z"
   },
   {
    "duration": 9,
    "start_time": "2023-05-15T13:13:02.563Z"
   },
   {
    "duration": 4,
    "start_time": "2023-05-15T13:14:00.294Z"
   },
   {
    "duration": 1098,
    "start_time": "2023-05-15T13:15:01.196Z"
   },
   {
    "duration": 4,
    "start_time": "2023-05-15T13:15:02.296Z"
   },
   {
    "duration": 290,
    "start_time": "2023-05-15T13:15:02.301Z"
   },
   {
    "duration": 207,
    "start_time": "2023-05-15T13:15:02.593Z"
   },
   {
    "duration": 172,
    "start_time": "2023-05-15T13:15:02.802Z"
   },
   {
    "duration": 51,
    "start_time": "2023-05-15T13:15:02.975Z"
   },
   {
    "duration": 183,
    "start_time": "2023-05-15T13:15:03.028Z"
   },
   {
    "duration": 4,
    "start_time": "2023-05-15T13:15:03.213Z"
   },
   {
    "duration": 98,
    "start_time": "2023-05-15T13:15:03.220Z"
   },
   {
    "duration": 19,
    "start_time": "2023-05-15T13:15:03.320Z"
   },
   {
    "duration": 17,
    "start_time": "2023-05-15T13:15:03.341Z"
   },
   {
    "duration": 16,
    "start_time": "2023-05-15T13:15:03.360Z"
   },
   {
    "duration": 42,
    "start_time": "2023-05-15T13:15:03.377Z"
   },
   {
    "duration": 10,
    "start_time": "2023-05-15T13:15:03.422Z"
   },
   {
    "duration": 31,
    "start_time": "2023-05-15T13:15:03.433Z"
   },
   {
    "duration": 111,
    "start_time": "2023-05-15T13:15:03.466Z"
   },
   {
    "duration": 2124,
    "start_time": "2023-05-15T13:22:34.176Z"
   },
   {
    "duration": 17,
    "start_time": "2023-05-15T13:29:52.424Z"
   },
   {
    "duration": 3689,
    "start_time": "2023-05-15T13:31:32.732Z"
   },
   {
    "duration": 18,
    "start_time": "2023-05-15T13:38:26.539Z"
   },
   {
    "duration": 1167,
    "start_time": "2023-05-15T13:39:41.927Z"
   },
   {
    "duration": 4,
    "start_time": "2023-05-15T13:39:43.096Z"
   },
   {
    "duration": 462,
    "start_time": "2023-05-15T13:39:43.102Z"
   },
   {
    "duration": 207,
    "start_time": "2023-05-15T13:39:43.567Z"
   },
   {
    "duration": 243,
    "start_time": "2023-05-15T13:39:43.775Z"
   },
   {
    "duration": 36,
    "start_time": "2023-05-15T13:39:44.019Z"
   },
   {
    "duration": 349,
    "start_time": "2023-05-15T13:39:44.057Z"
   },
   {
    "duration": 4,
    "start_time": "2023-05-15T13:39:44.408Z"
   },
   {
    "duration": 95,
    "start_time": "2023-05-15T13:39:44.414Z"
   },
   {
    "duration": 4,
    "start_time": "2023-05-15T13:39:44.511Z"
   },
   {
    "duration": 7,
    "start_time": "2023-05-15T13:39:44.517Z"
   },
   {
    "duration": 4,
    "start_time": "2023-05-15T13:39:44.526Z"
   },
   {
    "duration": 9,
    "start_time": "2023-05-15T13:39:44.531Z"
   },
   {
    "duration": 6,
    "start_time": "2023-05-15T13:39:44.541Z"
   },
   {
    "duration": 6,
    "start_time": "2023-05-15T13:39:44.549Z"
   },
   {
    "duration": 136,
    "start_time": "2023-05-15T13:39:44.557Z"
   },
   {
    "duration": 19,
    "start_time": "2023-05-15T13:40:34.458Z"
   },
   {
    "duration": 4042,
    "start_time": "2023-05-15T13:42:31.151Z"
   },
   {
    "duration": 1173,
    "start_time": "2023-05-15T13:51:38.225Z"
   },
   {
    "duration": 3,
    "start_time": "2023-05-15T13:51:39.400Z"
   },
   {
    "duration": 227,
    "start_time": "2023-05-15T13:51:39.405Z"
   },
   {
    "duration": 177,
    "start_time": "2023-05-15T13:51:39.634Z"
   },
   {
    "duration": 173,
    "start_time": "2023-05-15T13:51:39.813Z"
   },
   {
    "duration": 50,
    "start_time": "2023-05-15T13:51:39.988Z"
   },
   {
    "duration": 80,
    "start_time": "2023-05-15T13:51:40.040Z"
   },
   {
    "duration": 92,
    "start_time": "2023-05-15T13:51:40.124Z"
   },
   {
    "duration": 12,
    "start_time": "2023-05-15T13:51:40.219Z"
   },
   {
    "duration": 9,
    "start_time": "2023-05-15T13:51:40.314Z"
   },
   {
    "duration": 7,
    "start_time": "2023-05-15T13:51:40.325Z"
   },
   {
    "duration": 4,
    "start_time": "2023-05-15T13:51:40.333Z"
   },
   {
    "duration": 13,
    "start_time": "2023-05-15T13:51:40.338Z"
   },
   {
    "duration": 8,
    "start_time": "2023-05-15T13:51:40.352Z"
   },
   {
    "duration": 7,
    "start_time": "2023-05-15T13:51:40.361Z"
   },
   {
    "duration": 3876,
    "start_time": "2023-05-15T13:51:40.369Z"
   },
   {
    "duration": 1733,
    "start_time": "2023-05-15T14:06:56.575Z"
   },
   {
    "duration": 5,
    "start_time": "2023-05-15T14:06:58.310Z"
   },
   {
    "duration": 243,
    "start_time": "2023-05-15T14:06:58.316Z"
   },
   {
    "duration": 222,
    "start_time": "2023-05-15T14:06:58.561Z"
   },
   {
    "duration": 212,
    "start_time": "2023-05-15T14:06:58.785Z"
   },
   {
    "duration": 38,
    "start_time": "2023-05-15T14:06:58.998Z"
   },
   {
    "duration": 148,
    "start_time": "2023-05-15T14:06:59.037Z"
   },
   {
    "duration": 87,
    "start_time": "2023-05-15T14:06:59.190Z"
   },
   {
    "duration": 98,
    "start_time": "2023-05-15T14:06:59.280Z"
   },
   {
    "duration": 6,
    "start_time": "2023-05-15T14:06:59.384Z"
   },
   {
    "duration": 11,
    "start_time": "2023-05-15T14:06:59.392Z"
   },
   {
    "duration": 4,
    "start_time": "2023-05-15T14:06:59.405Z"
   },
   {
    "duration": 13,
    "start_time": "2023-05-15T14:06:59.411Z"
   },
   {
    "duration": 7,
    "start_time": "2023-05-15T14:06:59.426Z"
   },
   {
    "duration": 8,
    "start_time": "2023-05-15T14:06:59.435Z"
   },
   {
    "duration": 4757,
    "start_time": "2023-05-15T14:06:59.445Z"
   },
   {
    "duration": 7,
    "start_time": "2023-05-15T14:07:18.854Z"
   },
   {
    "duration": 6,
    "start_time": "2023-05-15T14:07:28.415Z"
   },
   {
    "duration": 4363,
    "start_time": "2023-05-15T14:07:55.775Z"
   },
   {
    "duration": 4140,
    "start_time": "2023-05-15T14:08:15.400Z"
   },
   {
    "duration": 4,
    "start_time": "2023-05-15T14:08:54.816Z"
   },
   {
    "duration": 8430,
    "start_time": "2023-05-15T14:09:29.270Z"
   },
   {
    "duration": 4,
    "start_time": "2023-05-15T14:16:42.276Z"
   },
   {
    "duration": 4,
    "start_time": "2023-05-15T14:16:52.254Z"
   },
   {
    "duration": 4295,
    "start_time": "2023-05-15T14:17:22.465Z"
   },
   {
    "duration": 1557,
    "start_time": "2023-05-15T14:18:04.434Z"
   },
   {
    "duration": 4342,
    "start_time": "2023-05-15T14:18:26.437Z"
   },
   {
    "duration": 11351,
    "start_time": "2023-05-15T14:19:18.359Z"
   },
   {
    "duration": 4494,
    "start_time": "2023-05-15T14:19:40.630Z"
   },
   {
    "duration": 4,
    "start_time": "2023-05-15T14:20:42.815Z"
   },
   {
    "duration": 11860,
    "start_time": "2023-05-15T14:21:22.169Z"
   },
   {
    "duration": 4208,
    "start_time": "2023-05-15T14:22:41.784Z"
   },
   {
    "duration": 8,
    "start_time": "2023-05-15T14:47:27.522Z"
   },
   {
    "duration": 9034,
    "start_time": "2023-05-15T14:48:33.672Z"
   },
   {
    "duration": 5154,
    "start_time": "2023-05-15T14:49:28.257Z"
   },
   {
    "duration": 13,
    "start_time": "2023-05-15T14:50:07.431Z"
   },
   {
    "duration": 1413,
    "start_time": "2023-05-15T14:50:51.117Z"
   },
   {
    "duration": 3791,
    "start_time": "2023-05-15T14:51:00.567Z"
   },
   {
    "duration": 2462,
    "start_time": "2023-05-15T14:51:57.557Z"
   },
   {
    "duration": 4364,
    "start_time": "2023-05-15T14:52:39.127Z"
   },
   {
    "duration": 3553,
    "start_time": "2023-05-15T14:58:08.729Z"
   },
   {
    "duration": 4898,
    "start_time": "2023-05-15T15:12:09.058Z"
   },
   {
    "duration": 188,
    "start_time": "2023-05-15T15:25:25.945Z"
   },
   {
    "duration": 98,
    "start_time": "2023-05-15T15:25:35.482Z"
   },
   {
    "duration": 12,
    "start_time": "2023-05-15T15:26:08.519Z"
   },
   {
    "duration": 4293,
    "start_time": "2023-05-15T15:34:59.935Z"
   },
   {
    "duration": 4091,
    "start_time": "2023-05-15T15:40:03.126Z"
   },
   {
    "duration": 2016,
    "start_time": "2023-05-16T15:17:03.925Z"
   },
   {
    "duration": 8,
    "start_time": "2023-05-16T15:17:05.950Z"
   },
   {
    "duration": 298,
    "start_time": "2023-05-16T15:17:05.961Z"
   },
   {
    "duration": 204,
    "start_time": "2023-05-16T15:17:06.262Z"
   },
   {
    "duration": 228,
    "start_time": "2023-05-16T15:17:06.467Z"
   },
   {
    "duration": 60,
    "start_time": "2023-05-16T15:17:06.696Z"
   },
   {
    "duration": 201,
    "start_time": "2023-05-16T15:17:06.758Z"
   },
   {
    "duration": 11,
    "start_time": "2023-05-16T15:17:07.025Z"
   },
   {
    "duration": 148,
    "start_time": "2023-05-16T15:17:07.037Z"
   },
   {
    "duration": 28,
    "start_time": "2023-05-16T15:17:07.187Z"
   },
   {
    "duration": 64,
    "start_time": "2023-05-16T15:17:07.217Z"
   },
   {
    "duration": 67,
    "start_time": "2023-05-16T15:17:07.283Z"
   },
   {
    "duration": 26,
    "start_time": "2023-05-16T15:17:07.351Z"
   },
   {
    "duration": 39,
    "start_time": "2023-05-16T15:17:07.379Z"
   },
   {
    "duration": 51,
    "start_time": "2023-05-16T15:17:07.419Z"
   },
   {
    "duration": 5002,
    "start_time": "2023-05-16T15:17:07.471Z"
   },
   {
    "duration": 3,
    "start_time": "2023-05-16T15:17:37.899Z"
   },
   {
    "duration": 1699,
    "start_time": "2023-05-16T15:17:41.682Z"
   },
   {
    "duration": 3,
    "start_time": "2023-05-16T15:17:49.520Z"
   },
   {
    "duration": 4,
    "start_time": "2023-05-16T15:17:54.190Z"
   },
   {
    "duration": 2869,
    "start_time": "2023-05-16T15:18:11.708Z"
   },
   {
    "duration": 1988,
    "start_time": "2023-05-16T15:18:25.871Z"
   },
   {
    "duration": 93,
    "start_time": "2023-05-16T15:37:25.668Z"
   },
   {
    "duration": 12,
    "start_time": "2023-05-16T15:42:25.382Z"
   },
   {
    "duration": 1360,
    "start_time": "2023-05-16T15:42:33.922Z"
   },
   {
    "duration": 5,
    "start_time": "2023-05-16T15:42:35.284Z"
   },
   {
    "duration": 1072,
    "start_time": "2023-05-16T15:42:35.290Z"
   },
   {
    "duration": 388,
    "start_time": "2023-05-16T15:42:36.364Z"
   },
   {
    "duration": 404,
    "start_time": "2023-05-16T15:42:36.756Z"
   },
   {
    "duration": 44,
    "start_time": "2023-05-16T15:42:37.162Z"
   },
   {
    "duration": 239,
    "start_time": "2023-05-16T15:42:37.208Z"
   },
   {
    "duration": 75,
    "start_time": "2023-05-16T15:42:37.455Z"
   },
   {
    "duration": 130,
    "start_time": "2023-05-16T15:42:37.532Z"
   },
   {
    "duration": 42,
    "start_time": "2023-05-16T15:42:37.663Z"
   },
   {
    "duration": 39,
    "start_time": "2023-05-16T15:42:37.706Z"
   },
   {
    "duration": 42,
    "start_time": "2023-05-16T15:42:37.754Z"
   },
   {
    "duration": 67,
    "start_time": "2023-05-16T15:42:37.798Z"
   },
   {
    "duration": 11,
    "start_time": "2023-05-16T15:42:37.867Z"
   },
   {
    "duration": 24,
    "start_time": "2023-05-16T15:42:37.880Z"
   },
   {
    "duration": 2496,
    "start_time": "2023-05-16T15:42:37.906Z"
   },
   {
    "duration": 2572,
    "start_time": "2023-05-16T15:43:02.003Z"
   },
   {
    "duration": 40,
    "start_time": "2023-05-16T15:50:32.304Z"
   },
   {
    "duration": 2309,
    "start_time": "2023-05-16T15:52:38.547Z"
   },
   {
    "duration": 110,
    "start_time": "2023-05-16T15:54:53.453Z"
   },
   {
    "duration": 1872,
    "start_time": "2023-05-16T15:58:40.894Z"
   },
   {
    "duration": 1365,
    "start_time": "2023-05-16T16:00:18.149Z"
   },
   {
    "duration": 1405,
    "start_time": "2023-05-16T16:00:59.786Z"
   },
   {
    "duration": 1377,
    "start_time": "2023-05-16T16:01:32.786Z"
   },
   {
    "duration": 1307,
    "start_time": "2023-05-16T16:01:52.106Z"
   },
   {
    "duration": 1419,
    "start_time": "2023-05-16T16:03:34.302Z"
   },
   {
    "duration": 4025,
    "start_time": "2023-05-16T16:04:25.111Z"
   },
   {
    "duration": 1755,
    "start_time": "2023-05-16T16:05:08.252Z"
   },
   {
    "duration": 61,
    "start_time": "2023-05-16T16:06:30.902Z"
   },
   {
    "duration": 1790,
    "start_time": "2023-05-16T16:06:48.743Z"
   },
   {
    "duration": 1755,
    "start_time": "2023-05-16T16:10:21.950Z"
   },
   {
    "duration": 1932,
    "start_time": "2023-05-16T16:11:39.350Z"
   },
   {
    "duration": 4,
    "start_time": "2023-05-16T16:13:16.678Z"
   },
   {
    "duration": 1253,
    "start_time": "2023-05-16T16:13:43.102Z"
   },
   {
    "duration": 4,
    "start_time": "2023-05-16T16:13:44.358Z"
   },
   {
    "duration": 262,
    "start_time": "2023-05-16T16:13:44.365Z"
   },
   {
    "duration": 199,
    "start_time": "2023-05-16T16:13:44.629Z"
   },
   {
    "duration": 202,
    "start_time": "2023-05-16T16:13:44.830Z"
   },
   {
    "duration": 37,
    "start_time": "2023-05-16T16:13:45.034Z"
   },
   {
    "duration": 144,
    "start_time": "2023-05-16T16:13:45.072Z"
   },
   {
    "duration": 6,
    "start_time": "2023-05-16T16:13:45.219Z"
   },
   {
    "duration": 94,
    "start_time": "2023-05-16T16:13:45.228Z"
   },
   {
    "duration": 4,
    "start_time": "2023-05-16T16:13:45.323Z"
   },
   {
    "duration": 8,
    "start_time": "2023-05-16T16:13:45.329Z"
   },
   {
    "duration": 3,
    "start_time": "2023-05-16T16:13:45.339Z"
   },
   {
    "duration": 10,
    "start_time": "2023-05-16T16:13:45.344Z"
   },
   {
    "duration": 7,
    "start_time": "2023-05-16T16:13:45.356Z"
   },
   {
    "duration": 7,
    "start_time": "2023-05-16T16:13:45.365Z"
   },
   {
    "duration": 1958,
    "start_time": "2023-05-16T16:13:45.373Z"
   },
   {
    "duration": 1857,
    "start_time": "2023-05-16T16:15:48.005Z"
   },
   {
    "duration": 1829,
    "start_time": "2023-05-16T16:16:11.110Z"
   },
   {
    "duration": 2119,
    "start_time": "2023-05-16T16:17:30.486Z"
   },
   {
    "duration": 1734,
    "start_time": "2023-05-16T16:21:52.152Z"
   },
   {
    "duration": 1941,
    "start_time": "2023-05-16T16:22:30.794Z"
   },
   {
    "duration": 9,
    "start_time": "2023-05-16T16:23:06.748Z"
   },
   {
    "duration": 9,
    "start_time": "2023-05-16T16:23:12.225Z"
   },
   {
    "duration": 1107,
    "start_time": "2023-05-16T16:23:41.162Z"
   },
   {
    "duration": 5,
    "start_time": "2023-05-16T16:23:42.271Z"
   },
   {
    "duration": 249,
    "start_time": "2023-05-16T16:23:42.277Z"
   },
   {
    "duration": 180,
    "start_time": "2023-05-16T16:23:42.528Z"
   },
   {
    "duration": 226,
    "start_time": "2023-05-16T16:23:42.719Z"
   },
   {
    "duration": 34,
    "start_time": "2023-05-16T16:23:42.947Z"
   },
   {
    "duration": 137,
    "start_time": "2023-05-16T16:23:42.983Z"
   },
   {
    "duration": 89,
    "start_time": "2023-05-16T16:23:43.132Z"
   },
   {
    "duration": 119,
    "start_time": "2023-05-16T16:23:43.225Z"
   },
   {
    "duration": 5,
    "start_time": "2023-05-16T16:23:43.345Z"
   },
   {
    "duration": 8,
    "start_time": "2023-05-16T16:23:43.351Z"
   },
   {
    "duration": 5,
    "start_time": "2023-05-16T16:23:43.361Z"
   },
   {
    "duration": 10,
    "start_time": "2023-05-16T16:23:43.368Z"
   },
   {
    "duration": 18,
    "start_time": "2023-05-16T16:23:43.380Z"
   },
   {
    "duration": 8,
    "start_time": "2023-05-16T16:23:43.400Z"
   },
   {
    "duration": 2286,
    "start_time": "2023-05-16T16:23:43.410Z"
   },
   {
    "duration": 1945,
    "start_time": "2023-05-16T16:24:54.175Z"
   },
   {
    "duration": 1846,
    "start_time": "2023-05-16T16:25:01.822Z"
   },
   {
    "duration": 1775,
    "start_time": "2023-05-16T16:26:54.089Z"
   },
   {
    "duration": 1489,
    "start_time": "2023-05-16T16:42:48.897Z"
   },
   {
    "duration": 3152,
    "start_time": "2023-05-16T16:44:12.817Z"
   },
   {
    "duration": 1145,
    "start_time": "2023-05-16T16:44:44.102Z"
   },
   {
    "duration": 4,
    "start_time": "2023-05-16T16:44:45.248Z"
   },
   {
    "duration": 210,
    "start_time": "2023-05-16T16:44:45.254Z"
   },
   {
    "duration": 181,
    "start_time": "2023-05-16T16:44:45.466Z"
   },
   {
    "duration": 190,
    "start_time": "2023-05-16T16:44:45.648Z"
   },
   {
    "duration": 35,
    "start_time": "2023-05-16T16:44:45.839Z"
   },
   {
    "duration": 243,
    "start_time": "2023-05-16T16:44:45.876Z"
   },
   {
    "duration": 4,
    "start_time": "2023-05-16T16:44:46.121Z"
   },
   {
    "duration": 102,
    "start_time": "2023-05-16T16:44:46.127Z"
   },
   {
    "duration": 92,
    "start_time": "2023-05-16T16:44:46.232Z"
   },
   {
    "duration": 9,
    "start_time": "2023-05-16T16:44:46.325Z"
   },
   {
    "duration": 6,
    "start_time": "2023-05-16T16:44:46.336Z"
   },
   {
    "duration": 10,
    "start_time": "2023-05-16T16:44:46.343Z"
   },
   {
    "duration": 8,
    "start_time": "2023-05-16T16:44:46.354Z"
   },
   {
    "duration": 8,
    "start_time": "2023-05-16T16:44:46.363Z"
   },
   {
    "duration": 3154,
    "start_time": "2023-05-16T16:44:46.372Z"
   },
   {
    "duration": 3102,
    "start_time": "2023-05-16T16:45:01.444Z"
   },
   {
    "duration": 4358,
    "start_time": "2023-05-16T16:45:53.201Z"
   },
   {
    "duration": 3147,
    "start_time": "2023-05-16T16:46:09.389Z"
   },
   {
    "duration": 86,
    "start_time": "2023-05-16T18:02:51.794Z"
   },
   {
    "duration": 1868,
    "start_time": "2023-05-16T18:02:56.900Z"
   },
   {
    "duration": 7,
    "start_time": "2023-05-16T18:02:58.770Z"
   },
   {
    "duration": 1216,
    "start_time": "2023-05-16T18:02:58.787Z"
   },
   {
    "duration": 1423,
    "start_time": "2023-05-16T18:03:00.005Z"
   },
   {
    "duration": 961,
    "start_time": "2023-05-16T18:03:01.431Z"
   },
   {
    "duration": 44,
    "start_time": "2023-05-16T18:03:02.395Z"
   },
   {
    "duration": 152,
    "start_time": "2023-05-16T18:03:02.441Z"
   },
   {
    "duration": 63,
    "start_time": "2023-05-16T18:03:02.602Z"
   },
   {
    "duration": 100,
    "start_time": "2023-05-16T18:03:02.676Z"
   },
   {
    "duration": 17,
    "start_time": "2023-05-16T18:03:02.779Z"
   },
   {
    "duration": 32,
    "start_time": "2023-05-16T18:03:02.802Z"
   },
   {
    "duration": 57,
    "start_time": "2023-05-16T18:03:02.837Z"
   },
   {
    "duration": 45,
    "start_time": "2023-05-16T18:03:02.899Z"
   },
   {
    "duration": 63,
    "start_time": "2023-05-16T18:03:02.946Z"
   },
   {
    "duration": 28,
    "start_time": "2023-05-16T18:03:03.012Z"
   },
   {
    "duration": 6552,
    "start_time": "2023-05-16T18:03:03.042Z"
   },
   {
    "duration": 5892,
    "start_time": "2023-05-16T18:03:20.405Z"
   },
   {
    "duration": 5563,
    "start_time": "2023-05-16T18:03:37.120Z"
   },
   {
    "duration": 1156,
    "start_time": "2023-05-16T18:13:27.417Z"
   },
   {
    "duration": 5,
    "start_time": "2023-05-16T18:13:28.576Z"
   },
   {
    "duration": 807,
    "start_time": "2023-05-16T18:13:28.582Z"
   },
   {
    "duration": 642,
    "start_time": "2023-05-16T18:13:29.392Z"
   },
   {
    "duration": 610,
    "start_time": "2023-05-16T18:13:30.037Z"
   },
   {
    "duration": 46,
    "start_time": "2023-05-16T18:13:30.649Z"
   },
   {
    "duration": 263,
    "start_time": "2023-05-16T18:13:30.697Z"
   },
   {
    "duration": 6,
    "start_time": "2023-05-16T18:13:30.962Z"
   },
   {
    "duration": 143,
    "start_time": "2023-05-16T18:13:31.056Z"
   },
   {
    "duration": 28,
    "start_time": "2023-05-16T18:13:31.202Z"
   },
   {
    "duration": 58,
    "start_time": "2023-05-16T18:13:31.232Z"
   },
   {
    "duration": 37,
    "start_time": "2023-05-16T18:13:31.293Z"
   },
   {
    "duration": 41,
    "start_time": "2023-05-16T18:13:31.332Z"
   },
   {
    "duration": 27,
    "start_time": "2023-05-16T18:13:31.375Z"
   },
   {
    "duration": 44,
    "start_time": "2023-05-16T18:13:31.404Z"
   },
   {
    "duration": 3807,
    "start_time": "2023-05-16T18:13:31.451Z"
   },
   {
    "duration": 1760,
    "start_time": "2023-05-16T18:14:28.297Z"
   },
   {
    "duration": 1861,
    "start_time": "2023-05-16T18:16:16.481Z"
   },
   {
    "duration": 1125,
    "start_time": "2023-05-16T18:16:43.515Z"
   },
   {
    "duration": 5,
    "start_time": "2023-05-16T18:16:44.642Z"
   },
   {
    "duration": 295,
    "start_time": "2023-05-16T18:16:44.649Z"
   },
   {
    "duration": 239,
    "start_time": "2023-05-16T18:16:44.947Z"
   },
   {
    "duration": 237,
    "start_time": "2023-05-16T18:16:45.189Z"
   },
   {
    "duration": 54,
    "start_time": "2023-05-16T18:16:45.428Z"
   },
   {
    "duration": 174,
    "start_time": "2023-05-16T18:16:45.484Z"
   },
   {
    "duration": 6,
    "start_time": "2023-05-16T18:16:45.662Z"
   },
   {
    "duration": 187,
    "start_time": "2023-05-16T18:16:45.670Z"
   },
   {
    "duration": 5,
    "start_time": "2023-05-16T18:16:45.861Z"
   },
   {
    "duration": 45,
    "start_time": "2023-05-16T18:16:45.868Z"
   },
   {
    "duration": 8,
    "start_time": "2023-05-16T18:16:45.916Z"
   },
   {
    "duration": 19,
    "start_time": "2023-05-16T18:16:45.927Z"
   },
   {
    "duration": 9,
    "start_time": "2023-05-16T18:16:45.948Z"
   },
   {
    "duration": 11,
    "start_time": "2023-05-16T18:16:45.959Z"
   },
   {
    "duration": 5956,
    "start_time": "2023-05-16T18:16:45.972Z"
   },
   {
    "duration": 3997,
    "start_time": "2023-05-16T18:16:56.596Z"
   },
   {
    "duration": 5129,
    "start_time": "2023-05-16T18:20:02.797Z"
   },
   {
    "duration": 1105,
    "start_time": "2023-05-16T18:20:16.845Z"
   },
   {
    "duration": 5,
    "start_time": "2023-05-16T18:20:17.952Z"
   },
   {
    "duration": 242,
    "start_time": "2023-05-16T18:20:17.958Z"
   },
   {
    "duration": 226,
    "start_time": "2023-05-16T18:20:18.202Z"
   },
   {
    "duration": 230,
    "start_time": "2023-05-16T18:20:18.430Z"
   },
   {
    "duration": 42,
    "start_time": "2023-05-16T18:20:18.663Z"
   },
   {
    "duration": 150,
    "start_time": "2023-05-16T18:20:18.707Z"
   },
   {
    "duration": 4,
    "start_time": "2023-05-16T18:20:18.859Z"
   },
   {
    "duration": 99,
    "start_time": "2023-05-16T18:20:18.865Z"
   },
   {
    "duration": 98,
    "start_time": "2023-05-16T18:20:18.967Z"
   },
   {
    "duration": 30,
    "start_time": "2023-05-16T18:20:19.067Z"
   },
   {
    "duration": 12,
    "start_time": "2023-05-16T18:20:19.099Z"
   },
   {
    "duration": 22,
    "start_time": "2023-05-16T18:20:19.113Z"
   },
   {
    "duration": 9,
    "start_time": "2023-05-16T18:20:19.139Z"
   },
   {
    "duration": 20,
    "start_time": "2023-05-16T18:20:19.150Z"
   },
   {
    "duration": 3970,
    "start_time": "2023-05-16T18:20:19.175Z"
   }
  ],
  "kernelspec": {
   "display_name": "Python 3 (ipykernel)",
   "language": "python",
   "name": "python3"
  },
  "language_info": {
   "codemirror_mode": {
    "name": "ipython",
    "version": 3
   },
   "file_extension": ".py",
   "mimetype": "text/x-python",
   "name": "python",
   "nbconvert_exporter": "python",
   "pygments_lexer": "ipython3",
   "version": "3.9.5"
  },
  "toc": {
   "base_numbering": 1,
   "nav_menu": {},
   "number_sections": true,
   "sideBar": true,
   "skip_h1_title": true,
   "title_cell": "Table of Contents",
   "title_sidebar": "Contents",
   "toc_cell": false,
   "toc_position": {},
   "toc_section_display": true,
   "toc_window_display": false
  }
 },
 "nbformat": 4,
 "nbformat_minor": 2
}
